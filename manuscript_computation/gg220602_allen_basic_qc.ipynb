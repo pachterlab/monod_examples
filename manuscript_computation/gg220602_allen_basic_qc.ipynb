{
 "cells": [
  {
   "cell_type": "markdown",
   "metadata": {
    "id": "VPTqP9OGouov"
   },
   "source": [
    "# *Monod* demonstration: fit to neural cell subtypes"
   ]
  },
  {
   "cell_type": "markdown",
   "metadata": {
    "id": "d2qrzWG0_Yqm"
   },
   "source": [
    "We have run the *Monod* inference pipeline on four pre-clustered mouse brain cell datasets, disaggregated into GABAergic and glutamatergic cell types, as well as some glutamatergic subtypes. We would like to check whether the sampling parameters obtained for each dataset are consistent."
   ]
  },
  {
   "cell_type": "markdown",
   "metadata": {},
   "source": [
    "## Metadata and prerequisites"
   ]
  },
  {
   "cell_type": "markdown",
   "metadata": {},
   "source": [
    "Define the dataset metadata and disk locations."
   ]
  },
  {
   "cell_type": "code",
   "execution_count": 6,
   "metadata": {},
   "outputs": [],
   "source": [
    "from preprocess import *\n",
    "from extract_data import extract_data\n",
    "import cme_toolbox\n",
    "from cme_toolbox import CMEModel\n",
    "import inference\n",
    "from inference import InferenceParameters, GradientInference\n",
    "import analysis \n",
    "from analysis import *"
   ]
  },
  {
   "cell_type": "markdown",
   "metadata": {},
   "source": [
    "Let us investigate the consistency of the sampling parameters."
   ]
  },
  {
   "cell_type": "code",
   "execution_count": 7,
   "metadata": {
    "id": "Kx9Vkj-lXUCE"
   },
   "outputs": [],
   "source": [
    "dataset_meta = ['B08','C01','F08','H12']\n",
    "subcluster_names = ['l23it','l5it','l6it','l5et', 'l56np', 'l6ct', 'l6b']\n",
    "cluster_names = ['gaba','glu']\n",
    "dataset_names = ['allen_'+x+'_'+y for x in dataset_meta for y in cluster_names]   \\\n",
    "              + ['allen_'+dataset_meta[0]+'_'+y  for y in subcluster_names] \n",
    "n_datasets = len(dataset_names)"
   ]
  },
  {
   "cell_type": "code",
   "execution_count": 101,
   "metadata": {},
   "outputs": [],
   "source": [
    "# result_strings"
   ]
  },
  {
   "cell_type": "code",
   "execution_count": 62,
   "metadata": {},
   "outputs": [
    {
     "name": "stdout",
     "output_type": "stream",
     "text": [
      "INFO:root:Grid scan results loaded from ./fits/gg_220602_022_allen_celltypes_1/allen_B08_gaba/Bursty_Poisson_20x21/grid_scan_results_upd.res.\n",
      "INFO:root:Grid scan results loaded from ./fits/gg_220602_022_allen_celltypes_1/allen_B08_glu/Bursty_Poisson_20x21/grid_scan_results_upd.res.\n",
      "INFO:root:Grid scan results loaded from ./fits/gg_220602_022_allen_celltypes_1/allen_C01_gaba/Bursty_Poisson_20x21/grid_scan_results_upd.res.\n",
      "INFO:root:Grid scan results loaded from ./fits/gg_220602_022_allen_celltypes_1/allen_C01_glu/Bursty_Poisson_20x21/grid_scan_results_upd.res.\n",
      "INFO:root:Grid scan results loaded from ./fits/gg_220602_022_allen_celltypes_1/allen_F08_gaba/Bursty_Poisson_20x21/grid_scan_results_upd.res.\n",
      "INFO:root:Grid scan results loaded from ./fits/gg_220602_022_allen_celltypes_1/allen_F08_glu/Bursty_Poisson_20x21/grid_scan_results_upd.res.\n",
      "INFO:root:Grid scan results loaded from ./fits/gg_220602_022_allen_celltypes_1/allen_H12_gaba/Bursty_Poisson_20x21/grid_scan_results_upd.res.\n",
      "INFO:root:Grid scan results loaded from ./fits/gg_220602_022_allen_celltypes_1/allen_H12_glu/Bursty_Poisson_20x21/grid_scan_results_upd.res.\n",
      "INFO:root:Grid scan results loaded from ./fits/gg_220602_022_allen_celltypes_1/allen_B08_l23it/Bursty_Poisson_20x21/grid_scan_results_upd.res.\n",
      "INFO:root:Grid scan results loaded from ./fits/gg_220602_022_allen_celltypes_1/allen_B08_l5it/Bursty_Poisson_20x21/grid_scan_results_upd.res.\n",
      "INFO:root:Grid scan results loaded from ./fits/gg_220602_022_allen_celltypes_1/allen_B08_l6it/Bursty_Poisson_20x21/grid_scan_results_upd.res.\n",
      "INFO:root:Grid scan results loaded from ./fits/gg_220602_022_allen_celltypes_1/allen_B08_l5et/Bursty_Poisson_20x21/grid_scan_results_upd.res.\n",
      "INFO:root:Grid scan results loaded from ./fits/gg_220602_022_allen_celltypes_1/allen_B08_l56np/Bursty_Poisson_20x21/grid_scan_results_upd.res.\n",
      "INFO:root:Grid scan results loaded from ./fits/gg_220602_022_allen_celltypes_1/allen_B08_l6ct/Bursty_Poisson_20x21/grid_scan_results_upd.res.\n",
      "INFO:root:Grid scan results loaded from ./fits/gg_220602_022_allen_celltypes_1/allen_B08_l6b/Bursty_Poisson_20x21/grid_scan_results_upd.res.\n"
     ]
    }
   ],
   "source": [
    "dir_string = './fits/gg_220602_022_allen_celltypes_1'\n",
    "result_strings = [dir_string+'/'+x+'/Bursty_Poisson_20x21/grid_scan_results_upd.res' for x in dataset_names]\n",
    "\n",
    "opt = []\n",
    "n_cells = []\n",
    "for i in range(n_datasets):\n",
    "    sr = load_search_results(result_strings[i])\n",
    "    opt.append(sr.samp_optimum)\n",
    "    n_cells.append(sr.n_cells)\n",
    "opt = np.asarray(opt)\n",
    "n_cells = np.asarray(n_cells)"
   ]
  },
  {
   "cell_type": "code",
   "execution_count": 15,
   "metadata": {},
   "outputs": [
    {
     "data": {
      "text/plain": [
       "array([[-6.23684211, -0.8       ],\n",
       "       [-6.13157895, -0.8       ],\n",
       "       [-6.13157895, -0.8       ],\n",
       "       [-6.02631579, -0.8       ],\n",
       "       [-6.23684211, -0.8       ],\n",
       "       [-6.23684211, -0.8       ],\n",
       "       [-6.23684211, -0.8       ],\n",
       "       [-6.23684211, -0.8       ],\n",
       "       [-6.34210526, -1.1       ],\n",
       "       [-6.13157895, -0.8       ],\n",
       "       [-6.34210526, -1.2       ],\n",
       "       [-5.92105263, -0.7       ],\n",
       "       [-6.55263158, -1.4       ],\n",
       "       [-6.23684211, -1.        ],\n",
       "       [-6.34210526, -0.7       ]])"
      ]
     },
     "execution_count": 15,
     "metadata": {},
     "output_type": "execute_result"
    }
   ],
   "source": [
    "opt"
   ]
  },
  {
   "cell_type": "code",
   "execution_count": 21,
   "metadata": {},
   "outputs": [],
   "source": [
    "xl = [sr.sp.samp_lb[0],sr.sp.samp_ub[0]]\n",
    "yl = [sr.sp.samp_lb[1],sr.sp.samp_ub[1]]\n",
    "x=np.linspace(xl[0],xl[1],sr.sp.gridsize[0])\n",
    "y=np.linspace(yl[0],yl[1],sr.sp.gridsize[1])"
   ]
  },
  {
   "cell_type": "code",
   "execution_count": 104,
   "metadata": {},
   "outputs": [
    {
     "data": {
      "image/png": "[encoded data removed]",
      "text/plain": [
       "<Figure size 576x576 with 2 Axes>"
      ]
     },
     "metadata": {
      "needs_background": "light"
     },
     "output_type": "display_data"
    }
   ],
   "source": [
    "fig1,ax1 = plt.subplots(1,1,figsize=(8,8))\n",
    "for i in range(sr.sp.gridsize[0]):\n",
    "    plt.plot([x[i]]*2,yl,c='whitesmoke')\n",
    "for i in range(sr.sp.gridsize[1]):\n",
    "    plt.plot(xl,[y[i]]*2,c='whitesmoke')\n",
    "jit = np.random.randn(n_datasets,2)*0.01\n",
    "opt_ = opt+jit\n",
    "cmap = 'cool'\n",
    "# for i in range(7):\n",
    "ctf = range(8)\n",
    "plt.scatter(opt_[ctf,0],opt_[ctf,1],100,n_cells[ctf],zorder=1000,\n",
    "            alpha=0.3,cmap=cmap,label='Cell types',vmin=0,vmax=5000)\n",
    "stf = range(8,n_datasets)\n",
    "plt.scatter(opt_[stf,0],opt_[stf,1],80,n_cells[stf],marker='^',zorder=1000,\n",
    "            alpha=0.5,cmap=cmap,label='Subtypes',vmin=0,vmax=5000)\n",
    "plt.xlim(xl)\n",
    "plt.ylim(yl)\n",
    "\n",
    "plt.legend(fontsize=fs)\n",
    "plt.colorbar(label='Number of cells')\n",
    "\n",
    "fs = 20\n",
    "plt.xlabel(r'$\\log_{10} C_u$',fontsize=fs)\n",
    "plt.ylabel(r'$\\log_{10} \\lambda_s$',fontsize=fs)\n",
    "\n",
    "fig_string = sr.batch_analysis_string+'/landscape_qc.png'\n",
    "plt.savefig(fig_string,dpi=450)"
   ]
  },
  {
   "cell_type": "markdown",
   "metadata": {},
   "source": [
    "As might be expected, the subtypes with very low cell numbers appear to show stronger deviations."
   ]
  },
  {
   "cell_type": "code",
   "execution_count": null,
   "metadata": {},
   "outputs": [],
   "source": []
  }
 ],
 "metadata": {
  "colab": {
   "collapsed_sections": [],
   "include_colab_link": true,
   "name": "gg220406_refactor.ipynb",
   "provenance": []
  },
  "kernelspec": {
   "display_name": "Python 3",
   "language": "python",
   "name": "python3"
  },
  "language_info": {
   "codemirror_mode": {
    "name": "ipython",
    "version": 3
   },
   "file_extension": ".py",
   "mimetype": "text/x-python",
   "name": "python",
   "nbconvert_exporter": "python",
   "pygments_lexer": "ipython3",
   "version": "3.9.1"
  }
 },
 "nbformat": 4,
 "nbformat_minor": 1
}
