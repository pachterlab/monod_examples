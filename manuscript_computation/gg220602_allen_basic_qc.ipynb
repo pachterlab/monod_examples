{
 "cells": [
  {
   "cell_type": "markdown",
   "metadata": {
    "id": "VPTqP9OGouov"
   },
   "source": [
    "# *Monod* demonstration: fit to neural cell subtypes"
   ]
  },
  {
   "cell_type": "markdown",
   "metadata": {
    "id": "d2qrzWG0_Yqm"
   },
   "source": [
    "We have run the *Monod* inference pipeline on four pre-clustered mouse brain cell datasets, disaggregated into GABAergic and glutamatergic cell types, as well as some glutamatergic subtypes. We would like to check whether the sampling parameters obtained for each dataset are consistent."
   ]
  },
  {
   "cell_type": "markdown",
   "metadata": {},
   "source": [
    "## Metadata and prerequisites"
   ]
  },
  {
   "cell_type": "markdown",
   "metadata": {},
   "source": [
    "Define the dataset metadata and disk locations."
   ]
  },
  {
   "cell_type": "code",
   "execution_count": 1,
   "metadata": {},
   "outputs": [],
   "source": [
    "import time\n",
    "t1 = time.time()"
   ]
  },
  {
   "cell_type": "code",
   "execution_count": 2,
   "metadata": {},
   "outputs": [],
   "source": [
    "import sys\n",
    "sys.path.insert(0, '/home/ggorin/projects/monod/src/')"
   ]
  },
  {
   "cell_type": "code",
   "execution_count": 3,
   "metadata": {},
   "outputs": [],
   "source": [
    "import monod\n",
    "from monod import analysis\n",
    "import numpy as np\n",
    "import matplotlib.pyplot as plt"
   ]
  },
  {
   "cell_type": "markdown",
   "metadata": {},
   "source": [
    "Let us investigate the consistency of the sampling parameters."
   ]
  },
  {
   "cell_type": "code",
   "execution_count": 4,
   "metadata": {
    "id": "Kx9Vkj-lXUCE"
   },
   "outputs": [],
   "source": [
    "dataset_meta = ['B08','C01','F08','H12']\n",
    "\n",
    "subcluster_names = ['L2/3 IT','L5 IT','L6 IT','L5/6 NP', 'L6 CT', 'L6b']\n",
    "subcluster_names = [x.replace(' ','').replace('/','') for x in subcluster_names]\n",
    "cluster_names = ['Glutamatergic','GABAergic']\n",
    "dataset_names = ['allen_'+dataset_meta[0]+'_'+y  for y in subcluster_names] \\\n",
    "              + ['allen_'+x+'_'+y for x in dataset_meta for y in cluster_names]  \n",
    "raw_data_locations = [dataset_meta[0] for y in subcluster_names] + [x for x in dataset_meta for y in cluster_names]\n",
    "transcriptome_filepath = '../polyA_ref/gg_200524_mouse_genome_polyA_cum_1'\n",
    "\n",
    "n_datasets = len(dataset_names)\n"
   ]
  },
  {
   "cell_type": "code",
   "execution_count": 5,
   "metadata": {},
   "outputs": [],
   "source": [
    "dir_string = './fits/gg_220913_024_allen_celltypes_2'\n",
    "result_strings = [dir_string+'/'+x+'/Bursty_Poisson_20x21/grid_scan_results_upd.res' for x in dataset_names]\n",
    "\n",
    "opt = []\n",
    "n_cells = []\n",
    "for i in range(n_datasets):\n",
    "    sr = monod.analysis.load_search_results(result_strings[i])\n",
    "    opt.append(sr.samp_optimum)\n",
    "    n_cells.append(sr.n_cells)\n",
    "opt = np.asarray(opt)\n",
    "n_cells = np.asarray(n_cells)"
   ]
  },
  {
   "cell_type": "code",
   "execution_count": 6,
   "metadata": {},
   "outputs": [],
   "source": [
    "xl = np.asarray([sr.sp.samp_lb[0],sr.sp.samp_ub[0]])\n",
    "yl = np.asarray([sr.sp.samp_lb[1],sr.sp.samp_ub[1]])\n",
    "x=np.linspace(xl[0],xl[1],sr.sp.gridsize[0])\n",
    "y=np.linspace(yl[0],yl[1],sr.sp.gridsize[1])"
   ]
  },
  {
   "cell_type": "code",
   "execution_count": 7,
   "metadata": {},
   "outputs": [
    {
     "data": {
      "text/plain": [
       "['allen_B08_L23IT',\n",
       " 'allen_B08_L5IT',\n",
       " 'allen_B08_L6IT',\n",
       " 'allen_B08_L56NP',\n",
       " 'allen_B08_L6CT',\n",
       " 'allen_B08_L6b',\n",
       " 'allen_B08_Glutamatergic',\n",
       " 'allen_B08_GABAergic',\n",
       " 'allen_C01_Glutamatergic',\n",
       " 'allen_C01_GABAergic',\n",
       " 'allen_F08_Glutamatergic',\n",
       " 'allen_F08_GABAergic',\n",
       " 'allen_H12_Glutamatergic',\n",
       " 'allen_H12_GABAergic']"
      ]
     },
     "execution_count": 7,
     "metadata": {},
     "output_type": "execute_result"
    }
   ],
   "source": [
    "dataset_names"
   ]
  },
  {
   "cell_type": "code",
   "execution_count": 8,
   "metadata": {},
   "outputs": [
    {
     "data": {
      "image/png": "[encoded data removed]",
      "text/plain": [
       "<Figure size 576x576 with 2 Axes>"
      ]
     },
     "metadata": {
      "needs_background": "light"
     },
     "output_type": "display_data"
    }
   ],
   "source": [
    "fs = 20\n",
    "\n",
    "d=0.1\n",
    "\n",
    "fig1,ax1 = plt.subplots(1,1,figsize=(8,8))\n",
    "for i in range(sr.sp.gridsize[0]):\n",
    "    plt.plot([x[i]]*2,yl + [-d,d],c='whitesmoke')\n",
    "for i in range(sr.sp.gridsize[1]):\n",
    "    plt.plot(xl+ [-d,d],[y[i]]*2,c='whitesmoke')\n",
    "jit = np.random.randn(n_datasets,2)*0.01\n",
    "opt_ = opt+jit\n",
    "cmap = 'cool'\n",
    "\n",
    "ctf = range(6,n_datasets)\n",
    "plt.scatter(opt_[ctf,0],opt_[ctf,1],100,n_cells[ctf],zorder=1000,\n",
    "            alpha=0.3,cmap=cmap,label='Cell types',vmin=0,vmax=5000)\n",
    "stf = range(6)\n",
    "plt.scatter(opt_[stf,0],opt_[stf,1],80,n_cells[stf],marker='^',zorder=1000,\n",
    "            alpha=0.5,cmap=cmap,label='Subtypes',vmin=0,vmax=5000)\n",
    "plt.xlim(xl+ [-d,d])\n",
    "plt.ylim(yl+ [-d,d])\n",
    "\n",
    "plt.legend(fontsize=fs,loc='upper right')\n",
    "plt.colorbar(label='Number of cells')\n",
    "\n",
    "plt.xlabel(r'$\\log_{10} C_N$',fontsize=fs)\n",
    "plt.ylabel(r'$\\log_{10} \\lambda_M$',fontsize=fs)\n",
    "\n",
    "fig_string = sr.batch_analysis_string+'/landscape_qc.png'\n",
    "plt.savefig(fig_string,dpi=450)"
   ]
  },
  {
   "cell_type": "markdown",
   "metadata": {},
   "source": [
    "As might be expected, the subtypes with very low cell numbers appear to show stronger deviations."
   ]
  },
  {
   "cell_type": "code",
   "execution_count": 9,
   "metadata": {},
   "outputs": [
    {
     "name": "stdout",
     "output_type": "stream",
     "text": [
      "Runtime: 4.33 seconds.\n"
     ]
    }
   ],
   "source": [
    "t2 = time.time()\n",
    "print('Runtime: {:.2f} seconds.'.format(t2-t1))"
   ]
  },
  {
   "cell_type": "code",
   "execution_count": null,
   "metadata": {},
   "outputs": [],
   "source": []
  }
 ],
 "metadata": {
  "colab": {
   "collapsed_sections": [],
   "include_colab_link": true,
   "name": "gg220406_refactor.ipynb",
   "provenance": []
  },
  "kernelspec": {
   "display_name": "Python 3",
   "language": "python",
   "name": "python3"
  },
  "language_info": {
   "codemirror_mode": {
    "name": "ipython",
    "version": 3
   },
   "file_extension": ".py",
   "mimetype": "text/x-python",
   "name": "python",
   "nbconvert_exporter": "python",
   "pygments_lexer": "ipython3",
   "version": "3.9.1"
  }
 },
 "nbformat": 4,
 "nbformat_minor": 1
}
