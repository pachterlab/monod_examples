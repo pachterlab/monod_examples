{
 "cells": [
  {
   "cell_type": "markdown",
   "metadata": {
    "id": "VPTqP9OGouov"
   },
   "source": [
    "# Supplements"
   ]
  },
  {
   "cell_type": "markdown",
   "metadata": {
    "id": "d2qrzWG0_Yqm"
   },
   "source": [
    "We have run the *Monod* inference pipeline on six pre-clustered mouse brain cell glutamatergic subtypes, as well as the entire glutamatergic cell type. In this notebook, we analyze whether the amount of biological variation between the subtypes concords with the amount of biological variation predicted by normalization and mechanistic fit procedures."
   ]
  },
  {
   "cell_type": "markdown",
   "metadata": {},
   "source": [
    "## Metadata and prerequisites"
   ]
  },
  {
   "cell_type": "markdown",
   "metadata": {},
   "source": [
    "Define the dataset metadata and disk locations."
   ]
  },
  {
   "cell_type": "code",
   "execution_count": 1,
   "metadata": {},
   "outputs": [],
   "source": [
    "import time\n",
    "t1 = time.time()\n"
   ]
  },
  {
   "cell_type": "code",
   "execution_count": 2,
   "metadata": {},
   "outputs": [],
   "source": [
    "import sys\n",
    "sys.path.insert(0, '/home/ggorin/projects/monod/src/')"
   ]
  },
  {
   "cell_type": "code",
   "execution_count": null,
   "metadata": {},
   "outputs": [],
   "source": [
    "import monod\n",
    "from monod import analysis\n",
    "import numpy as np\n",
    "import matplotlib.pyplot as plt\n",
    "import anndata\n",
    "import pandas as pd\n",
    "import scanpy as sc\n",
    "import scipy\n",
    "from scipy.sparse import hstack\n",
    "from sklearn.decomposition import PCA\n",
    "import umap\n",
    "import decoupler"
   ]
  },
  {
   "cell_type": "code",
   "execution_count": null,
   "metadata": {},
   "outputs": [],
   "source": [
    "dir_string = './fits/gg_230328_026_allen_celltypes_1'"
   ]
  },
  {
   "cell_type": "code",
   "execution_count": null,
   "metadata": {},
   "outputs": [],
   "source": [
    "annotations_dir_loc = './data/'\n",
    "raw_file_dir_loc = '/home/ggorin/count_data/loom_allen_kb/'"
   ]
  },
  {
   "cell_type": "code",
   "execution_count": null,
   "metadata": {},
   "outputs": [],
   "source": [
    "steps = ['PF','log','PCA','UMAP']"
   ]
  },
  {
   "cell_type": "markdown",
   "metadata": {},
   "source": [
    "## data import"
   ]
  },
  {
   "cell_type": "code",
   "execution_count": null,
   "metadata": {},
   "outputs": [],
   "source": [
    "sample = 'B08'"
   ]
  },
  {
   "cell_type": "code",
   "execution_count": null,
   "metadata": {},
   "outputs": [],
   "source": [
    "allen_membership = pd.read_csv(annotations_dir_loc+'cluster.membership.csv',skiprows = 1, names=['barcode','cluster_id'])\n",
    "allen_annot = pd.read_csv(annotations_dir_loc+'cluster.annotation.csv')\n"
   ]
  },
  {
   "cell_type": "code",
   "execution_count": null,
   "metadata": {},
   "outputs": [],
   "source": [
    "allen_membership['cell_barcode'] = allen_membership['barcode'].str[:16]\n",
    "allen_membership['sample'] = allen_membership['barcode'].str[-3:]\n",
    "allen_membership['cluster_id'] = allen_membership['cluster_id'].astype(\"category\")\n",
    "allen_annot.set_index('cluster_id',inplace=True)\n",
    "allen_membership = pd.concat((allen_membership,\n",
    "                              allen_annot.loc[allen_membership['cluster_id']][['cluster_label','subclass_label','class_label']].set_index(allen_membership.index)),\n",
    "                              axis=1)\n"
   ]
  },
  {
   "cell_type": "code",
   "execution_count": null,
   "metadata": {},
   "outputs": [],
   "source": [
    "allen_membership = allen_membership[allen_membership['sample'] == sample]"
   ]
  },
  {
   "cell_type": "code",
   "execution_count": null,
   "metadata": {},
   "outputs": [],
   "source": [
    "allen_membership"
   ]
  },
  {
   "cell_type": "code",
   "execution_count": null,
   "metadata": {},
   "outputs": [],
   "source": [
    "raw_file = raw_file_dir_loc+'allen_'+sample+'_raw.loom'\n",
    "ad = sc.read_loom(raw_file)"
   ]
  },
  {
   "cell_type": "code",
   "execution_count": null,
   "metadata": {
    "scrolled": true
   },
   "outputs": [],
   "source": [
    "ad = ad[ad.obs['barcode'].isin(allen_membership['cell_barcode'])]\n",
    "ad.obs['total_cell_size'] = (ad.layers['spliced'].sum(1) + ad.layers['unspliced'].sum(1))\n",
    "ad = ad[(ad.obs['total_cell_size'] > 1e4)]"
   ]
  },
  {
   "cell_type": "markdown",
   "metadata": {},
   "source": [
    "Merge in Allen annotations."
   ]
  },
  {
   "cell_type": "code",
   "execution_count": null,
   "metadata": {},
   "outputs": [],
   "source": [
    "obs_df = ad.obs"
   ]
  },
  {
   "cell_type": "code",
   "execution_count": null,
   "metadata": {},
   "outputs": [],
   "source": [
    "obs_df=obs_df.merge(allen_membership,left_on='barcode',right_on='cell_barcode').drop(['barcode_x','barcode_y'],axis=1)"
   ]
  },
  {
   "cell_type": "code",
   "execution_count": null,
   "metadata": {},
   "outputs": [],
   "source": [
    "ad.obs=obs_df"
   ]
  },
  {
   "cell_type": "code",
   "execution_count": null,
   "metadata": {},
   "outputs": [],
   "source": [
    "ad.obs = ad.obs.set_index('cell_barcode')"
   ]
  },
  {
   "cell_type": "code",
   "execution_count": null,
   "metadata": {},
   "outputs": [],
   "source": [
    "ad.obs"
   ]
  },
  {
   "cell_type": "code",
   "execution_count": null,
   "metadata": {},
   "outputs": [],
   "source": [
    "sd_string = dir_string+'/allen_B08_Glutamatergic/raw.sd'\n",
    "sd = monod.analysis.load_search_data(sd_string)"
   ]
  },
  {
   "cell_type": "code",
   "execution_count": null,
   "metadata": {},
   "outputs": [],
   "source": [
    "ad.var = ad.var.set_index('gene_name').astype(str)"
   ]
  },
  {
   "cell_type": "code",
   "execution_count": null,
   "metadata": {},
   "outputs": [],
   "source": [
    "# ad.var.index.isin(sd.gene_names)"
   ]
  },
  {
   "cell_type": "code",
   "execution_count": null,
   "metadata": {},
   "outputs": [],
   "source": [
    "ad.var.index"
   ]
  },
  {
   "cell_type": "markdown",
   "metadata": {},
   "source": [
    "Select genes with relatively high spliced and unspliced expression."
   ]
  },
  {
   "cell_type": "code",
   "execution_count": null,
   "metadata": {},
   "outputs": [],
   "source": [
    "ad = ad[:,ad.var.index.isin(sd.gene_names)]"
   ]
  },
  {
   "cell_type": "code",
   "execution_count": null,
   "metadata": {},
   "outputs": [],
   "source": [
    "ad"
   ]
  },
  {
   "cell_type": "code",
   "execution_count": null,
   "metadata": {
    "scrolled": false
   },
   "outputs": [],
   "source": [
    "ad.obs"
   ]
  },
  {
   "cell_type": "code",
   "execution_count": null,
   "metadata": {},
   "outputs": [],
   "source": [
    "ad.obs['sum_spliced_counts_filtered'] = ad.layers['spliced'].sum(1)"
   ]
  },
  {
   "cell_type": "code",
   "execution_count": null,
   "metadata": {},
   "outputs": [],
   "source": [
    "ad.obs"
   ]
  },
  {
   "cell_type": "markdown",
   "metadata": {},
   "source": [
    "## Normalization"
   ]
  },
  {
   "cell_type": "code",
   "execution_count": null,
   "metadata": {},
   "outputs": [],
   "source": [
    "ad.layers['spliced_PF'] = (ad.layers['spliced'].toarray()\n",
    "                           /np.array(ad.obs['sum_spliced_counts_filtered'])[:,None]\n",
    "                           *ad.obs['sum_spliced_counts_filtered'].mean())"
   ]
  },
  {
   "cell_type": "code",
   "execution_count": null,
   "metadata": {},
   "outputs": [],
   "source": [
    "ad.layers['spliced_log'] = np.log(ad.layers['spliced_PF'] + 1)"
   ]
  },
  {
   "cell_type": "code",
   "execution_count": null,
   "metadata": {},
   "outputs": [],
   "source": [
    "pca_transformer = PCA(n_components=50)"
   ]
  },
  {
   "cell_type": "code",
   "execution_count": null,
   "metadata": {},
   "outputs": [],
   "source": [
    "pca_transformer.fit(ad.layers['spliced_log'])"
   ]
  },
  {
   "cell_type": "code",
   "execution_count": null,
   "metadata": {},
   "outputs": [],
   "source": [
    "S_PCA_50D = pca_transformer.transform(ad.layers['spliced_log'])"
   ]
  },
  {
   "cell_type": "code",
   "execution_count": null,
   "metadata": {},
   "outputs": [],
   "source": [
    "S_PCA = pca_transformer.inverse_transform(S_PCA_50D)"
   ]
  },
  {
   "cell_type": "code",
   "execution_count": null,
   "metadata": {},
   "outputs": [],
   "source": [
    "ad.layers['spliced_PCA'] = S_PCA"
   ]
  },
  {
   "cell_type": "code",
   "execution_count": null,
   "metadata": {},
   "outputs": [],
   "source": [
    "umap_transformer = umap.UMAP()\n"
   ]
  },
  {
   "cell_type": "code",
   "execution_count": null,
   "metadata": {},
   "outputs": [],
   "source": [
    "umap_transformer.fit(S_PCA_50D)\n"
   ]
  },
  {
   "cell_type": "code",
   "execution_count": null,
   "metadata": {},
   "outputs": [],
   "source": [
    "S_UMAP_2D = umap_transformer.transform(S_PCA_50D)\n"
   ]
  },
  {
   "cell_type": "code",
   "execution_count": null,
   "metadata": {},
   "outputs": [],
   "source": [
    "S_UMAP_50D = umap_transformer.inverse_transform(S_UMAP_2D)"
   ]
  },
  {
   "cell_type": "code",
   "execution_count": null,
   "metadata": {},
   "outputs": [],
   "source": [
    "S_UMAP = pca_transformer.inverse_transform(S_UMAP_50D)"
   ]
  },
  {
   "cell_type": "code",
   "execution_count": null,
   "metadata": {},
   "outputs": [],
   "source": [
    "ad.layers['spliced_UMAP'] = S_UMAP"
   ]
  },
  {
   "cell_type": "code",
   "execution_count": null,
   "metadata": {},
   "outputs": [],
   "source": [
    "ad"
   ]
  },
  {
   "cell_type": "markdown",
   "metadata": {},
   "source": [
    "## Extract data"
   ]
  },
  {
   "cell_type": "markdown",
   "metadata": {},
   "source": [
    "Subset for the cell types we have fit using *Monod*."
   ]
  },
  {
   "cell_type": "code",
   "execution_count": null,
   "metadata": {},
   "outputs": [],
   "source": [
    "subclasses_to_include = ['L2/3 IT','L5 IT','L6 IT','L5/6 NP', 'L6 CT', 'L6b']\n",
    "subclasses_to_exclude = ['L6 IT Car3','L5 ET']\n",
    "class_to_consider='Glutamatergic'"
   ]
  },
  {
   "cell_type": "code",
   "execution_count": null,
   "metadata": {},
   "outputs": [],
   "source": [
    "ad_subset = ad[(ad.obs['class_label']==class_to_consider) & \n",
    "              (ad.obs['subclass_label'].isin(subclasses_to_include))]"
   ]
  },
  {
   "cell_type": "code",
   "execution_count": null,
   "metadata": {},
   "outputs": [],
   "source": [
    "ad_subset"
   ]
  },
  {
   "cell_type": "code",
   "execution_count": null,
   "metadata": {},
   "outputs": [],
   "source": [
    "ad_subset.obs['subclass_label'].value_counts()"
   ]
  },
  {
   "cell_type": "code",
   "execution_count": null,
   "metadata": {},
   "outputs": [],
   "source": [
    "ad_subset.layers['spliced'] = ad_subset.layers['spliced'].toarray()"
   ]
  },
  {
   "cell_type": "markdown",
   "metadata": {},
   "source": [
    "## Compute per-gene CV2"
   ]
  },
  {
   "cell_type": "code",
   "execution_count": null,
   "metadata": {},
   "outputs": [],
   "source": [
    "def get_cv2(ad_,layer):\n",
    "    return ad_.layers[layer].var(0)/ad_.layers[layer].mean(0)**2"
   ]
  },
  {
   "cell_type": "code",
   "execution_count": null,
   "metadata": {},
   "outputs": [],
   "source": [
    "cv2_raw,cv2_PF,cv2_log,cv2_PCA,cv2_UMAP = [get_cv2(ad_subset,x) \n",
    "                                           for x in ['spliced','spliced_PF','spliced_log','spliced_PCA','spliced_UMAP']]\n",
    "cv2s = np.asarray([cv2_raw,cv2_PF,cv2_log,cv2_PCA,cv2_UMAP])"
   ]
  },
  {
   "cell_type": "code",
   "execution_count": null,
   "metadata": {},
   "outputs": [],
   "source": [
    "total_mean = ad_subset.layers['spliced'].mean(0)\n",
    "q = np.quantile(total_mean,0.95)\n",
    "gf = total_mean<q"
   ]
  },
  {
   "cell_type": "code",
   "execution_count": null,
   "metadata": {},
   "outputs": [],
   "source": [
    "n_genes = len(ad_subset.var)\n",
    "fig1,ax1 = plt.subplots(1,1,figsize=(10,5))\n",
    "for k in range(5):\n",
    "    xlocs = k+np.random.randn(n_genes)/10\n",
    "    ax1.scatter(xlocs[gf],cv2s[k][gf],20,'k',alpha=0.1)\n",
    "    ax1.scatter(xlocs[~gf],cv2s[k][~gf],20,'r',alpha=0.7)\n",
    "ax1.set_yscale('log')\n",
    "ax1.set_xticks(np.arange(5),['Raw','PF','Log','PCA','UMAP'])\n",
    "ax1.set_title('CV2')"
   ]
  },
  {
   "cell_type": "code",
   "execution_count": null,
   "metadata": {},
   "outputs": [],
   "source": [
    "cv2_fracs = np.array([cv2s[i]/cv2s[0] for i in range(1,5)])"
   ]
  },
  {
   "cell_type": "code",
   "execution_count": null,
   "metadata": {},
   "outputs": [],
   "source": [
    "n_genes = sd.n_genes\n",
    "fig1,ax1 = plt.subplots(1,1,figsize=(10,5))\n",
    "for k in range(4):\n",
    "    xlocs = k+np.random.randn(n_genes)/10\n",
    "    ax1.scatter(xlocs[gf],cv2_fracs[k][gf],20,'k',alpha=0.1)\n",
    "    ax1.scatter(xlocs[~gf],cv2_fracs[k][~gf],20,'r',alpha=0.7)\n",
    "ax1.set_yscale('log')\n",
    "ax1.set_xticks(np.arange(4),['PF','Log','PCA','UMAP'])\n",
    "ax1.set_title('CV2 fractions')\n"
   ]
  },
  {
   "cell_type": "code",
   "execution_count": null,
   "metadata": {},
   "outputs": [],
   "source": [
    "total_mean = ad_subset.layers['spliced'].mean(0)\n",
    "total_variance = ad_subset.layers['spliced'].var(0)"
   ]
  },
  {
   "cell_type": "code",
   "execution_count": null,
   "metadata": {},
   "outputs": [],
   "source": [
    "subclass_abundances = []\n",
    "subclass_means = []\n",
    "for subclass in subclasses_to_include:\n",
    "    subclass_mean = ad_subset[ad_subset.obs['subclass_label']==subclass].layers['spliced'].mean(0)\n",
    "    subclass_means.append(subclass_mean)\n",
    "    subclass_abundances.append((ad_subset.obs['subclass_label']==subclass).mean())\n",
    "subclass_abundances = np.asarray(subclass_abundances)\n",
    "subclass_means = np.asarray(subclass_means)\n",
    "baseline = (((subclass_means-total_mean[None,:])**2) * subclass_abundances[:,None]).sum(0) / total_variance"
   ]
  },
  {
   "cell_type": "code",
   "execution_count": null,
   "metadata": {},
   "outputs": [],
   "source": [
    "fig1,ax1=plt.subplots(1,4,figsize=(16,4))\n",
    "for i in range(4):\n",
    "    ax1[i].scatter(baseline[gf],cv2_fracs[i,gf],20,'k',alpha=0.1)\n",
    "    ax1[i].scatter(baseline[~gf],cv2_fracs[i,~gf],20,'r',alpha=0.7)\n",
    "    ax1[i].set_yscale('log')\n",
    "    xmin = 0.001\n",
    "    region_x = np.concatenate((np.linspace(xmin,1),[0,xmin]))\n",
    "    region_y = np.concatenate((np.linspace(xmin,1),[1,xmin]))\n",
    "    ax1[i].plot(region_x,region_y)\n",
    "#     ax1[i].set_ylim([cv2_fracs[i].min()*0.9,cv2_fracs[i].max()*1.1])\n"
   ]
  },
  {
   "cell_type": "code",
   "execution_count": null,
   "metadata": {},
   "outputs": [],
   "source": [
    "fig1,ax1=plt.subplots(1,4,figsize=(16,4))\n",
    "for i in range(4):\n",
    "    ax1[i].scatter(baseline[gf],cv2_fracs[i,gf],20,'k',alpha=0.1)\n",
    "    ax1[i].scatter(baseline[~gf],cv2_fracs[i,~gf],20,'r',alpha=0.7)\n",
    "    ax1[i].set_yscale('log')\n",
    "    xmin = 0.001\n",
    "    region_x = np.concatenate((np.linspace(xmin,1),[0,xmin]))\n",
    "    region_y = np.concatenate((np.linspace(xmin,1),[1,xmin]))\n",
    "    ax1[i].plot(region_x,region_y)\n",
    "    ax1[i].set_ylim([cv2_fracs[i].min()*0.9,cv2_fracs[i].max()*1.1])\n"
   ]
  },
  {
   "cell_type": "markdown",
   "metadata": {},
   "source": [
    "## Spliced/unspliced analysis"
   ]
  },
  {
   "cell_type": "markdown",
   "metadata": {},
   "source": [
    "Create the auxiliary object `ad_su` that concatenates spliced and unspliced measurements."
   ]
  },
  {
   "cell_type": "code",
   "execution_count": null,
   "metadata": {},
   "outputs": [],
   "source": [
    "ad"
   ]
  },
  {
   "cell_type": "code",
   "execution_count": null,
   "metadata": {},
   "outputs": [],
   "source": [
    "ad.layers['spliced']"
   ]
  },
  {
   "cell_type": "code",
   "execution_count": null,
   "metadata": {},
   "outputs": [],
   "source": [
    "hstack((ad.layers['spliced'], ad.layers['unspliced'])).tocsr()"
   ]
  },
  {
   "cell_type": "code",
   "execution_count": null,
   "metadata": {},
   "outputs": [],
   "source": [
    "ad_su = anndata.AnnData(X=hstack((ad.layers['spliced'], ad.layers['unspliced'])).tocsr(),\n",
    "                        obs=ad.obs,\n",
    "                        var=np.concatenate([ad.var.index,ad.var.index+'_U']))"
   ]
  },
  {
   "cell_type": "code",
   "execution_count": null,
   "metadata": {},
   "outputs": [],
   "source": [
    "ad_su.var=ad_su.var.rename(columns={0:'gene_name'})"
   ]
  },
  {
   "cell_type": "code",
   "execution_count": null,
   "metadata": {},
   "outputs": [],
   "source": [
    "ad_su.var = ad_su.var.set_index('gene_name').astype(str)"
   ]
  },
  {
   "cell_type": "code",
   "execution_count": null,
   "metadata": {},
   "outputs": [],
   "source": [
    "ad_su"
   ]
  },
  {
   "cell_type": "code",
   "execution_count": null,
   "metadata": {},
   "outputs": [],
   "source": [
    "ad_su.layers['su']=ad_su.X"
   ]
  },
  {
   "cell_type": "code",
   "execution_count": null,
   "metadata": {},
   "outputs": [],
   "source": [
    "ad_su.layers['su']"
   ]
  },
  {
   "cell_type": "code",
   "execution_count": null,
   "metadata": {},
   "outputs": [],
   "source": [
    "ad_su.obs['sum_counts_filtered'] = ad_su.layers['su'].sum(1)"
   ]
  },
  {
   "cell_type": "code",
   "execution_count": null,
   "metadata": {},
   "outputs": [],
   "source": [
    "ad_su.obs"
   ]
  },
  {
   "cell_type": "code",
   "execution_count": null,
   "metadata": {},
   "outputs": [],
   "source": [
    "ad_su.layers['su_PF'] = (ad_su.layers['su'].toarray()\n",
    "                           /np.array(ad_su.obs['sum_counts_filtered'])[:,None]\n",
    "                           *ad_su.obs['sum_counts_filtered'].mean())\n"
   ]
  },
  {
   "cell_type": "code",
   "execution_count": null,
   "metadata": {},
   "outputs": [],
   "source": [
    "ad_su.layers['su_log'] = np.log(ad_su.layers['su_PF'] + 1)\n"
   ]
  },
  {
   "cell_type": "code",
   "execution_count": null,
   "metadata": {},
   "outputs": [],
   "source": [
    "pca_transformer = PCA(n_components=50)\n",
    "pca_transformer.fit(ad_su.layers['su_log'])\n",
    "SU_PCA_50D = pca_transformer.transform(ad_su.layers['su_log'])\n",
    "SU_PCA = pca_transformer.inverse_transform(SU_PCA_50D)\n",
    "ad_su.layers['su_PCA'] = SU_PCA\n"
   ]
  },
  {
   "cell_type": "code",
   "execution_count": null,
   "metadata": {},
   "outputs": [],
   "source": [
    "umap_transformer = umap.UMAP()\n",
    "umap_transformer.fit(SU_PCA_50D)\n",
    "SU_UMAP_2D = umap_transformer.transform(SU_PCA_50D)\n",
    "SU_UMAP_50D = umap_transformer.inverse_transform(SU_UMAP_2D)\n",
    "SU_UMAP = pca_transformer.inverse_transform(SU_UMAP_50D)\n",
    "ad_su.layers['su_UMAP'] = SU_UMAP"
   ]
  },
  {
   "cell_type": "markdown",
   "metadata": {},
   "source": [
    "### Extract data"
   ]
  },
  {
   "cell_type": "markdown",
   "metadata": {},
   "source": [
    "Subset again."
   ]
  },
  {
   "cell_type": "code",
   "execution_count": null,
   "metadata": {},
   "outputs": [],
   "source": [
    "ad_su_subset = ad_su[(ad_su.obs['class_label']==class_to_consider) & \n",
    "              (ad_su.obs['subclass_label'].isin(subclasses_to_include))]"
   ]
  },
  {
   "cell_type": "code",
   "execution_count": null,
   "metadata": {},
   "outputs": [],
   "source": [
    "ad_su_subset.X"
   ]
  },
  {
   "cell_type": "code",
   "execution_count": null,
   "metadata": {},
   "outputs": [],
   "source": [
    "ad_su_subset.layers['su'] = ad_su_subset.layers['su'].tocsr().toarray()"
   ]
  },
  {
   "cell_type": "code",
   "execution_count": null,
   "metadata": {},
   "outputs": [],
   "source": [
    "ad_su_subset"
   ]
  },
  {
   "cell_type": "markdown",
   "metadata": {},
   "source": [
    "Compute spliced/unspliced correlations."
   ]
  },
  {
   "cell_type": "code",
   "execution_count": null,
   "metadata": {},
   "outputs": [],
   "source": [
    "def get_SU_corrs(ad_,layer,genes,kind='pearson'):\n",
    "    corrs = []\n",
    "    if kind=='pearson':\n",
    "        corrfun = lambda x,y: scipy.stats.pearsonr(x,y)[0]\n",
    "    elif kind=='spearman':\n",
    "        corrfun = lambda x,y: scipy.stats.spearmanr(x,y)[0]\n",
    "    for gene in genes:\n",
    "        x = ad_[:,gene].layers[layer].squeeze()\n",
    "        y = ad_[:,gene+'_U'].layers[layer].squeeze()\n",
    "        corr = corrfun(x,y)\n",
    "        corrs.append(corr)\n",
    "    return np.array(corrs)"
   ]
  },
  {
   "cell_type": "code",
   "execution_count": null,
   "metadata": {},
   "outputs": [],
   "source": [
    "genes=ad.var.index\n",
    "corr_raw,corr_PF,corr_log,corr_PCA,corr_UMAP = [get_SU_corrs(ad_su_subset,x,genes) \n",
    "                                           for x in ['su','su_PF','su_log','su_PCA','su_UMAP']]\n",
    "corrs = np.asarray([corr_raw,corr_PF,corr_log,corr_PCA,corr_UMAP])"
   ]
  },
  {
   "cell_type": "code",
   "execution_count": null,
   "metadata": {},
   "outputs": [],
   "source": [
    "fig1,ax1 = plt.subplots(1,4,figsize=(16,4))\n",
    "\n",
    "for i in range(4):\n",
    "    ax1[i].scatter(corrs[0,gf],corrs[i+1,gf],20,'k',alpha=0.1)\n",
    "    ax1[i].scatter(corrs[0,~gf],corrs[i+1,~gf],20,'r',alpha=0.7)\n",
    "    xl = [0,1]\n",
    "    ax1[i].plot(xl,xl,'b--')\n",
    "    ax1[i].set_xlabel('Raw corr')\n",
    "    ax1[i].set_ylabel('Corr after '+steps[i])\n",
    "\n",
    "fig1.tight_layout()\n"
   ]
  },
  {
   "cell_type": "markdown",
   "metadata": {},
   "source": [
    "## Gene-gene correlations"
   ]
  },
  {
   "cell_type": "markdown",
   "metadata": {},
   "source": [
    "Get gene-gene correlations in the concatenated matrix."
   ]
  },
  {
   "cell_type": "code",
   "execution_count": null,
   "metadata": {},
   "outputs": [],
   "source": [
    "ad_su_subset"
   ]
  },
  {
   "cell_type": "code",
   "execution_count": null,
   "metadata": {},
   "outputs": [],
   "source": [
    "def get_SU_corr_percentiles(ad_,layer,su_corrs,genes,kind='pearson'):\n",
    "    if kind=='pearson':\n",
    "        cc = np.corrcoef(ad_.layers[layer][:,:len(genes)].T)\n",
    "    percentile = (cc<su_corrs[:,None]).mean(1)\n",
    "    return percentile"
   ]
  },
  {
   "cell_type": "code",
   "execution_count": null,
   "metadata": {},
   "outputs": [],
   "source": [
    "genes=ad.var.index\n",
    "corr_raw,corr_PF,corr_log,corr_PCA,corr_UMAP = [get_SU_corrs(ad_su_subset,x,genes) \n",
    "                                           for x in ['su','su_PF','su_log','su_PCA','su_UMAP']]\n",
    "corrs = np.asarray([corr_raw,corr_PF,corr_log,corr_PCA,corr_UMAP])"
   ]
  },
  {
   "cell_type": "code",
   "execution_count": null,
   "metadata": {},
   "outputs": [],
   "source": [
    "perc_raw,perc_PF,perc_log,perc_PCA,perc_UMAP = [get_SU_corr_percentiles(ad_su_subset,x,corrs[i],genes) \n",
    "                                           for i,x in enumerate(['su','su_PF','su_log','su_PCA','su_UMAP'])]\n",
    "percentiles = np.asarray([perc_raw,perc_PF,perc_log,perc_PCA,perc_UMAP])"
   ]
  },
  {
   "cell_type": "code",
   "execution_count": null,
   "metadata": {},
   "outputs": [],
   "source": [
    "fig1,ax1 = plt.subplots(1,4,figsize=(16,4))\n",
    "\n",
    "for i in range(4):\n",
    "    ax1[i].scatter(percentiles[0],percentiles[i+1],20,'k',alpha=0.1)\n",
    "#     ax1[i].scatter(rhos[0,~gf],rhos[i+1,~gf],20,'r',alpha=0.7)\n",
    "    xl = [0,1]\n",
    "    ax1[i].plot(xl,xl,'b--')\n",
    "    ax1[i].set_xlabel('Raw S/U corr percentile')\n",
    "    ax1[i].set_ylabel('S/U corr percentile after '+steps[i])\n",
    "\n",
    "fig1.tight_layout()\n"
   ]
  },
  {
   "cell_type": "code",
   "execution_count": null,
   "metadata": {},
   "outputs": [],
   "source": [
    "fig1,ax1 = plt.subplots(1,4,figsize=(16,4))\n",
    "\n",
    "for i in range(4):\n",
    "    ax1[i].scatter(percentiles[i],percentiles[i+1],20,'k',alpha=0.1)\n",
    "#     ax1[i].scatter(rhos[0,~gf],rhos[i+1,~gf],20,'r',alpha=0.7)\n",
    "    xl = [0,1]\n",
    "    ax1[i].plot(xl,xl,'b--')\n",
    "    ax1[i].set_xlabel('S/U corr percentile before '+steps[i])\n",
    "    ax1[i].set_ylabel('S/U corr percentile after '+steps[i])\n",
    "\n",
    "fig1.tight_layout()\n"
   ]
  },
  {
   "cell_type": "markdown",
   "metadata": {},
   "source": [
    "## Ranks of abs"
   ]
  },
  {
   "cell_type": "code",
   "execution_count": null,
   "metadata": {},
   "outputs": [],
   "source": [
    "def get_SU_corr_percentiles_abs(ad_,layer,su_corrs,genes,kind='pearson'):\n",
    "    if kind=='pearson':\n",
    "        cc = np.corrcoef(ad_.layers[layer][:,:len(genes)].T)\n",
    "    percentile = (np.abs(cc)<np.abs(su_corrs[:,None])).mean(1)\n",
    "    return percentile"
   ]
  },
  {
   "cell_type": "code",
   "execution_count": null,
   "metadata": {},
   "outputs": [],
   "source": [
    "genes=ad.var.index\n",
    "corr_raw,corr_PF,corr_log,corr_PCA,corr_UMAP = [get_SU_corrs(ad_su_subset,x,genes) \n",
    "                                           for x in ['su','su_PF','su_log','su_PCA','su_UMAP']]\n",
    "corrs = np.asarray([corr_raw,corr_PF,corr_log,corr_PCA,corr_UMAP])"
   ]
  },
  {
   "cell_type": "code",
   "execution_count": null,
   "metadata": {},
   "outputs": [],
   "source": [
    "perc_raw,perc_PF,perc_log,perc_PCA,perc_UMAP = [get_SU_corr_percentiles_abs(ad_su_subset,x,corrs[i],genes) \n",
    "                                           for i,x in enumerate(['su','su_PF','su_log','su_PCA','su_UMAP'])]\n",
    "percentiles_abs = np.asarray([perc_raw,perc_PF,perc_log,perc_PCA,perc_UMAP])"
   ]
  },
  {
   "cell_type": "code",
   "execution_count": null,
   "metadata": {},
   "outputs": [],
   "source": [
    "fig1,ax1 = plt.subplots(1,4,figsize=(16,4))\n",
    "\n",
    "for i in range(4):\n",
    "    ax1[i].scatter(percentiles_abs[0],percentiles_abs[i+1],20,'k',alpha=0.1)\n",
    "#     ax1[i].scatter(rhos[0,~gf],rhos[i+1,~gf],20,'r',alpha=0.7)\n",
    "    xl = [0,1]\n",
    "    ax1[i].plot(xl,xl,'b--')\n",
    "    ax1[i].set_xlabel('Raw S/U abs corr percentile')\n",
    "    ax1[i].set_ylabel('S/U abs corr percentile after '+steps[i])\n",
    "\n",
    "fig1.tight_layout()\n"
   ]
  },
  {
   "cell_type": "code",
   "execution_count": null,
   "metadata": {},
   "outputs": [],
   "source": [
    "thr=0.9\n",
    "print('percentiles before/after')\n",
    "for i in range(4):\n",
    "    print(((percentiles_abs[i]>thr) & (percentiles_abs[i+1]>thr)).mean())\n",
    "print('percentiles raw/after')\n",
    "for i in range(4):\n",
    "    print(((percentiles_abs[0]>thr) & (percentiles_abs[i+1]>thr)).mean())"
   ]
  },
  {
   "cell_type": "code",
   "execution_count": null,
   "metadata": {},
   "outputs": [],
   "source": [
    "fig1,ax1 = plt.subplots(1,4,figsize=(16,4))\n",
    "\n",
    "for i in range(4):\n",
    "    ax1[i].scatter(percentiles_abs[i,],percentiles_abs[i+1],20,'k',alpha=0.1)\n",
    "    ax1[i].scatter(percentiles_abs[i,(percentiles_abs[i]>thr) & (percentiles_abs[i+1]>thr)],percentiles_abs[i+1,(percentiles_abs[i]>thr) & (percentiles_abs[i+1]>thr)],20,'r',alpha=0.3)\n",
    "#     ax1[i].scatter(rhos[0,~gf],rhos[i+1,~gf],20,'r',alpha=0.7)\n",
    "    xl = [0,1]\n",
    "    ax1[i].plot(xl,xl,'b--')\n",
    "    ax1[i].set_xlabel('S/U abs corr percentile before '+steps[i])\n",
    "    ax1[i].set_ylabel('S/U abs corr percentile after '+steps[i])\n",
    "\n",
    "fig1.tight_layout()\n"
   ]
  },
  {
   "cell_type": "code",
   "execution_count": null,
   "metadata": {},
   "outputs": [],
   "source": []
  },
  {
   "cell_type": "code",
   "execution_count": null,
   "metadata": {},
   "outputs": [],
   "source": []
  },
  {
   "cell_type": "code",
   "execution_count": null,
   "metadata": {},
   "outputs": [],
   "source": []
  },
  {
   "cell_type": "code",
   "execution_count": null,
   "metadata": {},
   "outputs": [],
   "source": []
  },
  {
   "cell_type": "code",
   "execution_count": null,
   "metadata": {},
   "outputs": [],
   "source": []
  },
  {
   "cell_type": "code",
   "execution_count": null,
   "metadata": {},
   "outputs": [],
   "source": []
  },
  {
   "cell_type": "markdown",
   "metadata": {},
   "source": [
    "## *Monod*: U/S correlations"
   ]
  },
  {
   "cell_type": "code",
   "execution_count": null,
   "metadata": {},
   "outputs": [],
   "source": [
    "subcluster_names = subclasses_to_include\n",
    "# subcluster_names = ['L2/3 IT','L5 IT','L6 IT','L5/6 NP', 'L6 CT', 'L6b']\n",
    "subcluster_names = [x.replace(' ','').replace('/','') for x in subcluster_names]\n",
    "dataset_meta = ['B08']\n",
    "cluster_names = ['Glutamatergic']\n",
    "dataset_names = ['allen_'+dataset_meta[0]+'_'+y  for y in subcluster_names] \\\n",
    "              + ['allen_'+x+'_'+y for x in dataset_meta for y in cluster_names]  \n",
    "result_strings = [dir_string+'/'+x+'/Bursty_Poisson_20x21/grid_scan_results_upd.res' for x in dataset_names]\n",
    "\n",
    "n_datasets = len(dataset_names)    \n",
    "sr = monod.analysis.load_search_results(result_strings[-1])\n"
   ]
  },
  {
   "cell_type": "code",
   "execution_count": null,
   "metadata": {},
   "outputs": [],
   "source": [
    "li = sr.samp_optimum_ind\n",
    "\n",
    "p = 10**sr.param_estimates[li] #b, beta, gamma\n",
    "l = 10**sr.regressor[li]\n",
    "\n",
    "p=p.T\n",
    "l=l.T"
   ]
  },
  {
   "cell_type": "code",
   "execution_count": null,
   "metadata": {},
   "outputs": [],
   "source": [
    "sd_strings = [dir_string + '/' + x + '/raw.sd' for x in dataset_names]\n",
    "sd = monod.analysis.load_search_data(sd_strings[-1])"
   ]
  },
  {
   "cell_type": "code",
   "execution_count": null,
   "metadata": {},
   "outputs": [],
   "source": [
    "_=sr.chisquare_testing(sd,threshold=0.01)"
   ]
  },
  {
   "cell_type": "code",
   "execution_count": null,
   "metadata": {},
   "outputs": [],
   "source": [
    "sr.rejected_genes.sum()"
   ]
  },
  {
   "cell_type": "code",
   "execution_count": null,
   "metadata": {},
   "outputs": [],
   "source": [
    "cov_nm_bio = p[0]**2/(p[1]+p[2])\n",
    "mu_n_bio_glu =  p[0]/p[1]\n",
    "var_n_bio_glu = mu_n_bio_glu*(1+p[0])\n",
    "mu_m_bio_glu =  p[0]/p[2]\n",
    "var_m_bio_glu = mu_m_bio_glu*(1+p[0]*p[1]/(p[1]+p[2]))\n",
    "corr_nm_bio = cov_nm_bio/np.sqrt(var_n_bio_glu*var_m_bio_glu)"
   ]
  },
  {
   "cell_type": "code",
   "execution_count": null,
   "metadata": {},
   "outputs": [],
   "source": [
    "fig1,ax1=plt.subplots(1,1,figsize=(5,5))\n",
    "\n",
    "ax1.scatter(corrs[0][gf&(~sr.rejected_genes)],corr_nm_bio[gf&(~sr.rejected_genes)],20,'k',alpha=0.1,label='fit non-high exp')\n",
    "ax1.scatter(corrs[0][~gf&(~sr.rejected_genes)],corr_nm_bio[~gf&(~sr.rejected_genes)],20,'r',alpha=0.7,label='fit high exp')\n",
    "\n",
    "ax1.scatter(corrs[0][gf&(sr.rejected_genes)],corr_nm_bio[gf&(sr.rejected_genes)],20,'k',alpha=0.05,marker='x',label='rejected non-high exp')\n",
    "ax1.scatter(corrs[0][~gf&(sr.rejected_genes)],corr_nm_bio[~gf&(sr.rejected_genes)],20,'r',alpha=0.5,marker='x',label='rejected high exp')\n",
    "xl=[0,1]\n",
    "ax1.plot(xl,xl,'b--')\n",
    "ax1.set_xlabel('Raw corr')\n",
    "ax1.set_ylabel('Monod inferred corr')\n",
    "ax1.legend()"
   ]
  },
  {
   "cell_type": "markdown",
   "metadata": {},
   "source": [
    "## *Monod*: cell type differences"
   ]
  },
  {
   "cell_type": "markdown",
   "metadata": {},
   "source": [
    "Perform analysis on mechanistic fit."
   ]
  },
  {
   "cell_type": "code",
   "execution_count": null,
   "metadata": {},
   "outputs": [],
   "source": [
    "subcluster_names = subclasses_to_include\n",
    "subcluster_names = [x.replace(' ','').replace('/','') for x in subcluster_names]\n",
    "cluster_names = ['Glutamatergic']\n",
    "dataset_names = ['allen_'+dataset_meta[0]+'_'+y  for y in subcluster_names] \\\n",
    "              + ['allen_'+x+'_'+y for x in dataset_meta for y in cluster_names]  \n",
    "n_datasets = len(dataset_names)"
   ]
  },
  {
   "cell_type": "code",
   "execution_count": null,
   "metadata": {},
   "outputs": [],
   "source": [
    "result_strings = [dir_string+'/'+x+'/Bursty_Poisson_20x21/grid_scan_results_upd.res' for x in dataset_names]\n"
   ]
  },
  {
   "cell_type": "code",
   "execution_count": null,
   "metadata": {},
   "outputs": [],
   "source": [
    "result_strings"
   ]
  },
  {
   "cell_type": "code",
   "execution_count": null,
   "metadata": {},
   "outputs": [],
   "source": []
  },
  {
   "cell_type": "markdown",
   "metadata": {},
   "source": [
    "Import results."
   ]
  },
  {
   "cell_type": "code",
   "execution_count": null,
   "metadata": {},
   "outputs": [],
   "source": [
    "opt = []\n",
    "n_cells = []\n",
    "sr_arr = []\n",
    "for i in range(n_datasets):\n",
    "    sr = monod.analysis.load_search_results(result_strings[i])\n",
    "    opt.append(sr.samp_optimum)\n",
    "    n_cells.append(sr.n_cells)\n",
    "    sr_arr.append(sr)\n",
    "opt = np.asarray(opt)\n",
    "n_cells = np.asarray(n_cells)\n"
   ]
  },
  {
   "cell_type": "code",
   "execution_count": null,
   "metadata": {},
   "outputs": [],
   "source": [
    "xl = np.asarray([sr.sp.samp_lb[0],sr.sp.samp_ub[0]])\n",
    "yl = np.asarray([sr.sp.samp_lb[1],sr.sp.samp_ub[1]])\n",
    "x=np.linspace(xl[0],xl[1],sr.sp.gridsize[0])\n",
    "y=np.linspace(yl[0],yl[1],sr.sp.gridsize[1])"
   ]
  },
  {
   "cell_type": "markdown",
   "metadata": {},
   "source": [
    "Where should we set the sampling parameters? The results for low-abundance cell types are questionable. We somewhat arbitrarily set the parameters for all to the glutamatergic result."
   ]
  },
  {
   "cell_type": "code",
   "execution_count": null,
   "metadata": {},
   "outputs": [],
   "source": [
    "fs = 20\n",
    "\n",
    "d=0.1\n",
    "\n",
    "fig1,ax1 = plt.subplots(1,1,figsize=(8,8))\n",
    "for i in range(sr.sp.gridsize[0]):\n",
    "    plt.plot([x[i]]*2,yl + [-d,d],c='whitesmoke')\n",
    "for i in range(sr.sp.gridsize[1]):\n",
    "    plt.plot(xl+ [-d,d],[y[i]]*2,c='whitesmoke')\n",
    "jit = np.random.randn(n_datasets,2)*0.01\n",
    "opt_ = opt+jit\n",
    "cmap = 'cool'\n",
    "\n",
    "ctf = range(6,n_datasets)\n",
    "plt.scatter(opt_[ctf,0],opt_[ctf,1],150,n_cells[ctf],zorder=1000,\n",
    "            alpha=0.3,cmap=cmap,label='Glutamatergic cell type',vmin=0,vmax=5000)\n",
    "stf = range(6)\n",
    "plt.scatter(opt_[stf,0],opt_[stf,1],80,n_cells[stf],marker='^',zorder=1000,\n",
    "            alpha=0.5,cmap=cmap,label='Subtypes',vmin=0,vmax=5000)\n",
    "plt.xlim(xl+ [-d,d])\n",
    "plt.ylim(yl+ [-d,d])\n",
    "\n",
    "plt.legend(fontsize=fs,loc='upper right')\n",
    "plt.colorbar(label='Number of cells')\n",
    "\n",
    "plt.xlabel(r'$\\log_{10} C_N$',fontsize=fs)\n",
    "plt.ylabel(r'$\\log_{10} \\lambda_M$',fontsize=fs)\n",
    "\n",
    "fig_string = './figs/landscape_qc_allen.png'\n",
    "plt.savefig(fig_string,dpi=450)\n"
   ]
  },
  {
   "cell_type": "markdown",
   "metadata": {},
   "source": [
    "For this analysis, we ignore goodness of fit and confidence intervals, because it is not entirely clear how to integrate them."
   ]
  },
  {
   "cell_type": "code",
   "execution_count": null,
   "metadata": {},
   "outputs": [],
   "source": [
    "model_moments = []\n",
    "li = sr_arr[-1].samp_optimum_ind\n",
    "for j in range(n_datasets-1):\n",
    "\n",
    "    p = 10**sr_arr[j].param_estimates[li] #b, beta, gamma\n",
    "    l = 10**sr_arr[j].regressor[li]\n",
    "    \n",
    "    p=p.T\n",
    "    l=l.T\n",
    "    mu_bio =  p[0]/p[2]\n",
    "    mu_tech = mu_bio * l[1]\n",
    "    var_bio = mu_bio*(1+p[0]*p[1]/(p[1]+p[2]))\n",
    "    var_tech = mu_tech*(1+l[1]*(1+p[0]*p[1]/(p[1]+p[2])))\n",
    "    model_moments.append((mu_bio,mu_tech,var_bio,var_tech))\n",
    "    \n",
    "model_moments = np.asarray(model_moments)\n"
   ]
  },
  {
   "cell_type": "code",
   "execution_count": null,
   "metadata": {},
   "outputs": [],
   "source": [
    "pi = subclass_abundances"
   ]
  },
  {
   "cell_type": "code",
   "execution_count": null,
   "metadata": {},
   "outputs": [],
   "source": [
    "mean_bio = (model_moments[:,0,:]*pi[:,None]).sum(0)\n",
    "var_bio = (model_moments[:,2,:]*pi[:,None]).sum(0) \\\n",
    "        + (((model_moments[:,0,:]-mean_bio)**2)*pi[:,None]).sum(0)\n",
    "\n",
    "mean_tech = (model_moments[:,1,:]*pi[:,None]).sum(0)\n",
    "var_tech = (model_moments[:,3,:]*pi[:,None]).sum(0) \\\n",
    "        + (((model_moments[:,1,:]-mean_tech)**2)*pi[:,None]).sum(0)\n",
    "\n",
    "cv2_bio = var_bio/mean_bio**2\n",
    "cv2_tech = var_tech/mean_tech**2\n",
    "cv2_monod_frac = cv2_bio/cv2_tech\n"
   ]
  },
  {
   "cell_type": "code",
   "execution_count": null,
   "metadata": {},
   "outputs": [],
   "source": [
    "plt.scatter(baseline[gf],cv2_monod_frac[gf],3,'k')\n",
    "plt.scatter(baseline[~gf],cv2_monod_frac[~gf],3,'r')\n",
    "xl = np.linspace(0.01,1)\n",
    "plt.plot(xl,xl,'r-')\n",
    "# plt.yscale('log')\n",
    "plt.ylim([-0.1,1])"
   ]
  },
  {
   "cell_type": "markdown",
   "metadata": {},
   "source": [
    "# Fig 1 b-h"
   ]
  },
  {
   "cell_type": "markdown",
   "metadata": {},
   "source": [
    "Plot the noise fractions and attributions for the PF, log, PCA, and UMAP."
   ]
  },
  {
   "cell_type": "code",
   "execution_count": null,
   "metadata": {},
   "outputs": [],
   "source": [
    "# a e s t h e t i c s\n",
    "c_genes = 'dimgrey'\n",
    "alpha_genes = 0.1\n",
    "c_highlight = 'tomato'\n",
    "alpha_highlight = 0.7\n",
    "c_baseline = np.asarray([9,160,115])/255\n",
    "c_singlegene = 'dodgerblue'\n",
    "ms_genes = 20\n",
    "ms_highlight = 20\n",
    "fs_axes = 12\n",
    "fs_title=14\n",
    "alpha_line = 0.48\n",
    "lw = 3\n",
    "c_baseline_violation = 'blueviolet'\n",
    "c_identity = 'k'"
   ]
  },
  {
   "cell_type": "code",
   "execution_count": null,
   "metadata": {},
   "outputs": [],
   "source": [
    "fig1,ax1=plt.subplots(3,4,figsize=(12,9))\n",
    "\n",
    "fl = 97+1\n",
    "#mean-variance relationship\n",
    "ax1[0,0].scatter(total_mean[gf],total_variance[gf],ms_genes,c_genes,alpha=alpha_genes)\n",
    "ax1[0,0].scatter(total_mean[~gf],total_variance[~gf],ms_highlight,c_highlight,alpha=alpha_highlight)\n",
    "ax1[0,0].plot([q]*2,[2e-1,2e3],'--',color=c_highlight,alpha=alpha_line,linewidth=lw)\n",
    "ax1[0,0].set_xscale('log')\n",
    "ax1[0,0].set_yscale('log')\n",
    "ax1[0,0].set_xlabel('Total mean',fontsize=fs_axes)\n",
    "ax1[0,0].set_ylabel('Total variance',fontsize=fs_axes)\n",
    "ax1[0,0].set_title('{}. Mean vs. variance'.format(chr(fl)))\n",
    "\n",
    "#cv2\n",
    "gs = ax1[0,1].get_gridspec()\n",
    "for ax in ax1[0,1:]:\n",
    "    ax.remove()\n",
    "axcv2 = fig1.add_subplot(gs[0,1:])\n",
    "for k in range(5):\n",
    "    xlocs = k+np.random.randn(n_genes)/10\n",
    "    axcv2.scatter(xlocs[gf],cv2s[k][gf],ms_genes,c_genes,alpha=alpha_genes)\n",
    "    axcv2.scatter(xlocs[~gf],cv2s[k][~gf],ms_highlight,c_highlight,alpha=alpha_highlight)\n",
    "axcv2.set_yscale('log')\n",
    "axcv2.set_xticks(np.arange(5),['Raw','PF','Log','PCA','UMAP'],fontsize=fs_axes)\n",
    "axcv2.set_ylabel(r'CV$^2$',fontsize=fs_axes)\n",
    "axcv2.set_title('{}. CV$^2$ after transformation'.format(chr(fl+1)))\n",
    "\n",
    "#mean dependence\n",
    "names = ['PF','log','PCA','UMAP']\n",
    "for k in range(4):\n",
    "    ax1[1,k].scatter(total_mean[gf],cv2_fracs[k][gf],ms_genes,c_genes,alpha=alpha_genes)\n",
    "    ax1[1,k].scatter(total_mean[~gf],cv2_fracs[k][~gf],ms_highlight,c_highlight,alpha=alpha_highlight)\n",
    "    ax1[1,k].set_xscale('log')\n",
    "    ax1[1,k].set_yscale('log')\n",
    "    ax1[1,k].set_xlabel('Total mean',fontsize=fs_axes)\n",
    "    ax1[1,k].set_ylabel('Fraction of CV$^2$',fontsize=fs_axes)\n",
    "    ax1[1,k].set_title('{}. Attribution after {}'.format(chr(fl+2+k),names[k]),fontsize=fs_title)\n",
    "\n",
    "#baseline comparison\n",
    "names = ['PF','log','PCA','UMAP']\n",
    "for k in range(4):\n",
    "    ax1[2,k].scatter(baseline[gf],cv2_fracs[k][gf],ms_genes,c_genes,alpha=alpha_genes)\n",
    "    ax1[2,k].scatter(baseline[~gf],cv2_fracs[k][~gf],ms_highlight,c_highlight,alpha=alpha_highlight)\n",
    "    \n",
    "    \n",
    "    gf_ = cv2_fracs[k]<baseline #can also add a CV2 fraction >1 criterion here...\n",
    "    print(gf_.sum()/len(gf_))\n",
    "    \n",
    "    ax1[2,k].set_yscale('log')\n",
    "    ax1[2,k].set_xlabel('Theoretical baseline',fontsize=fs_axes)\n",
    "    ax1[2,k].set_ylabel('Fraction of CV$^2$',fontsize=fs_axes)\n",
    "    xmin = 0.001\n",
    "    region_x = np.concatenate((np.linspace(xmin,1),[0,xmin]))\n",
    "    region_y = np.concatenate((np.linspace(xmin,1),[1,xmin]))\n",
    "    ax1[2,k].plot(region_x,region_y,color=c_baseline,alpha=alpha_line,linewidth=lw)\n",
    "                           \n",
    "    ax1[2,k].set_ylim([cv2_fracs[k].min()*0.9,cv2_fracs[k].max()*1.1])\n",
    "    ax1[2,k].set_xticks(np.linspace(0,1,5))\n",
    "    ax1[2,k].set_title('{}. {} baseline comparison'.format(chr(fl+6+k),names[k]),fontsize=fs_title)\n",
    "\n",
    "fig1.tight_layout()\n",
    "fig1.savefig('./figs/fig1b_k.png',dpi=450)\n",
    "fig1.savefig('./figs/fig1b_k.pdf')\n"
   ]
  },
  {
   "cell_type": "markdown",
   "metadata": {},
   "source": [
    "## Supplement to Fig. 1"
   ]
  },
  {
   "cell_type": "markdown",
   "metadata": {},
   "source": [
    "Even if UMAP inflates the CV$^2$, how much information have we lost previously in the process?"
   ]
  },
  {
   "cell_type": "code",
   "execution_count": null,
   "metadata": {},
   "outputs": [],
   "source": [
    "fig1,ax1=plt.subplots(1,4,figsize=(15,4))\n",
    "\n",
    "#baseline comparison\n",
    "names = ['PF','log','PCA','UMAP']\n",
    "for k in range(4):\n",
    "    if k==0:\n",
    "        gf_ = cv2_fracs[k]<baseline #can also add a CV2 fraction >1 criterion here...\n",
    "    else:\n",
    "        gf_ = gf_|(cv2_fracs[k]<baseline)\n",
    "    print(gf_.sum()/len(gf_))\n",
    "    ax1[k].scatter(baseline[~gf_],cv2_fracs[k][~gf_],ms_genes,c_genes,alpha=alpha_genes)\n",
    "    ax1[k].scatter(baseline[gf_],cv2_fracs[k][gf_],ms_highlight,c_baseline_violation,alpha=alpha_highlight)\n",
    "    ax1[k].set_yscale('log')\n",
    "    ax1[k].set_xlabel('Theoretical baseline',fontsize=fs_axes)\n",
    "    ax1[k].set_ylabel('Fraction of CV$^2$',fontsize=fs_axes)\n",
    "    xmin = 0.001\n",
    "    region_x = np.concatenate((np.linspace(xmin,1),[0,xmin]))\n",
    "    region_y = np.concatenate((np.linspace(xmin,1),[1,xmin]))\n",
    "    ax1[k].plot(region_x,region_y,color=c_baseline,alpha=alpha_line,linewidth=lw)\n",
    "                           \n",
    "    ax1[k].set_ylim([cv2_fracs[k].min()*0.9,cv2_fracs[k].max()*1.1])\n",
    "    ax1[k].set_xticks(np.linspace(0,1,5))\n",
    "    ax1[k].set_title('{}. {} baseline violations'.format(chr(97+k),names[k]),fontsize=fs_title)\n",
    "\n",
    "fig1.tight_layout()\n",
    "fig1.savefig('./figs/baseline_violation.png',dpi=450)\n",
    "fig1.savefig('./figs/baseline_violation.pdf')\n"
   ]
  },
  {
   "cell_type": "markdown",
   "metadata": {},
   "source": [
    "# Fig 2 b-c"
   ]
  },
  {
   "cell_type": "markdown",
   "metadata": {},
   "source": [
    "How much of the CV$^2$ does a mechanistic approach ascribe to biology?"
   ]
  },
  {
   "cell_type": "code",
   "execution_count": null,
   "metadata": {},
   "outputs": [],
   "source": [
    "fig1,ax1=plt.subplots(1,2,figsize=(12,4))\n",
    "\n",
    "# #mean dependence\n",
    "ax1[0].scatter(total_mean[gf],cv2_monod_frac[gf],ms_genes,c_genes,alpha=alpha_genes)\n",
    "ax1[0].scatter(total_mean[~gf],cv2_monod_frac[~gf],ms_highlight,c_highlight,alpha=alpha_highlight)\n",
    "ax1[0].set_xscale('log')\n",
    "ax1[0].set_yscale('log')\n",
    "ax1[0].set_xlabel('Total mean',fontsize=fs_axes)\n",
    "ax1[0].set_ylabel('Fraction of CV$^2$',fontsize=fs_axes)\n",
    "ax1[0].set_title('{}. '.format(chr(97+1))+r'Attribution by $\\it{Monod}$',fontsize=fs_title)\n",
    "\n",
    "\n",
    "ax1[1].scatter(baseline[gf],cv2_monod_frac[gf],ms_genes,c_genes,alpha=alpha_genes)\n",
    "ax1[1].scatter(baseline[~gf],cv2_monod_frac[~gf],ms_highlight,c_highlight,alpha=alpha_highlight)\n",
    "ax1[1].set_yscale('log')\n",
    "ax1[1].set_xlabel('Theoretical baseline',fontsize=fs_axes)\n",
    "ax1[1].set_ylabel('Fraction of CV$^2$',fontsize=fs_axes)\n",
    "xmin = 0.001\n",
    "region_x = np.concatenate((np.linspace(xmin,1),[0,xmin]))\n",
    "region_y = np.concatenate((np.linspace(xmin,1),[1,xmin]))\n",
    "ax1[1].plot(region_x,region_y,color=c_baseline,alpha=alpha_line,linewidth=lw)\n",
    "ax1[1].set_ylim([cv2_monod_frac.min()*0.9,cv2_monod_frac.max()*1.1])\n",
    "ax1[1].set_xticks(np.linspace(0,1,5))\n",
    "ax1[1].set_title('{}. '.format(chr(97+2))+r'$\\it{Monod}$ baseline comparison',fontsize=fs_title)\n",
    "\n",
    "fig1.tight_layout()\n",
    "fig1.savefig('./figs/fig2bc.png',dpi=450)\n",
    "fig1.savefig('./figs/fig2bc.pdf')\n"
   ]
  },
  {
   "cell_type": "markdown",
   "metadata": {},
   "source": [
    "## Supplements to Fig. 2"
   ]
  },
  {
   "cell_type": "code",
   "execution_count": null,
   "metadata": {},
   "outputs": [],
   "source": [
    "fig1,ax1=plt.subplots(1,4,figsize=(15,4))\n",
    "names = ['PF','log','PCA','UMAP']\n",
    "for k in range(4):\n",
    "    ax1[k].scatter(cv2_monod_frac[gf],cv2_fracs[k][gf],ms_genes,c_genes,alpha=alpha_genes)\n",
    "    ax1[k].scatter(cv2_monod_frac[~gf],cv2_fracs[k][~gf],ms_highlight,c_highlight,alpha=alpha_highlight)\n",
    "    xmin = 0.001\n",
    "    x_id = np.linspace(xmin,1)\n",
    "    ax1[k].plot(x_id,x_id,'--',color=c_identity,linewidth=lw)\n",
    "    ax1[k].set_yscale('log')\n",
    "    ax1[k].set_ylim([cv2_fracs[k].min()*0.9,cv2_fracs[k].max()*1.1])\n",
    "    ax1[k].set_xlabel(r'$\\it{Monod}$ attribution',fontsize=fs_axes)\n",
    "    ax1[k].set_ylabel(r'Attribution after {}'.format(names[k]),fontsize=fs_axes)\n",
    "    ax1[k].set_title('{}. Comparison after {}'.format(chr(97+k),names[k]),fontsize=fs_title)\n",
    "fig1.tight_layout()\n",
    "fig1.savefig('./figs/monod_norm_comparison.png',dpi=450)\n",
    "fig1.savefig('./figs/monod_norm_comparison.pdf')\n"
   ]
  },
  {
   "cell_type": "markdown",
   "metadata": {},
   "source": [
    "What if we fit the entire dataset using *Monod*, without giving the cell type annotations? After all, our aggregation procedure \"automatically\" applies the law of total variance. It turns out this makes very little difference."
   ]
  },
  {
   "cell_type": "code",
   "execution_count": null,
   "metadata": {},
   "outputs": [],
   "source": [
    "# model_moments = []\n",
    "li = sr_arr[-1].samp_optimum_ind\n",
    "\n",
    "p = 10**sr_arr[-1].param_estimates[li] #b, beta, gamma\n",
    "l = 10**sr_arr[-1].regressor[li]\n",
    "\n",
    "p=p.T\n",
    "l=l.T\n",
    "mu_bio_glu =  p[0]/p[2]\n",
    "mu_tech_glu = mu_bio_glu * l[1]\n",
    "var_bio_glu = mu_bio_glu*(1+p[0]*p[1]/(p[1]+p[2]))\n",
    "var_tech_glu = mu_tech_glu*(1+l[1]*(1+p[0]*p[1]/(p[1]+p[2])))\n",
    "cv2_bio_glu = var_bio_glu/mu_bio_glu**2\n",
    "cv2_tech_glu = var_tech_glu/mu_tech_glu**2\n",
    "cv2_monod_frac_glu = cv2_bio_glu/cv2_tech_glu\n"
   ]
  },
  {
   "cell_type": "code",
   "execution_count": null,
   "metadata": {},
   "outputs": [],
   "source": [
    "# p.sha"
   ]
  },
  {
   "cell_type": "code",
   "execution_count": null,
   "metadata": {},
   "outputs": [],
   "source": [
    "# fig1,ax1=plt.subplots(1,2,figsize=(12,6))\n",
    "fig1,ax1=plt.subplots(2,4,figsize=(15,7))\n",
    "\n",
    "\n",
    "gs = ax1[0,0].get_gridspec()\n",
    "for ax in ax1[0,0:2]:\n",
    "    ax.remove()\n",
    "ax1_a = fig1.add_subplot(gs[0,0:2])\n",
    "ax1_a.scatter(total_mean[gf],cv2_monod_frac_glu[gf],ms_genes,c_genes,alpha=alpha_genes)\n",
    "ax1_a.scatter(total_mean[~gf],cv2_monod_frac_glu[~gf],ms_highlight,c_highlight,alpha=alpha_highlight)\n",
    "ax1_a.set_xscale('log')\n",
    "ax1_a.set_yscale('log')\n",
    "ax1_a.set_xlabel('Total mean',fontsize=fs_axes)\n",
    "ax1_a.set_ylabel('Fraction of CV$^2$',fontsize=fs_axes)\n",
    "ax1_a.set_title('{}. '.format(chr(97))+r'Attribution by $\\it{Monod}$ (full dataset)',fontsize=fs_title)\n",
    "\n",
    "gs = ax1[0,2].get_gridspec()\n",
    "for ax in ax1[0,2:]:\n",
    "    ax.remove()\n",
    "ax1_b = fig1.add_subplot(gs[0,2:])\n",
    "ax1_b.scatter(baseline[gf],cv2_monod_frac_glu[gf],ms_genes,c_genes,alpha=alpha_genes)\n",
    "ax1_b.scatter(baseline[~gf],cv2_monod_frac_glu[~gf],ms_highlight,c_highlight,alpha=alpha_highlight)\n",
    "ax1_b.set_yscale('log')\n",
    "ax1_b.set_xlabel('Theoretical baseline',fontsize=fs_axes)\n",
    "ax1_b.set_ylabel('Fraction of CV$^2$',fontsize=fs_axes)\n",
    "xmin = 0.001\n",
    "region_x = np.concatenate((np.linspace(xmin,1),[0,xmin]))\n",
    "region_y = np.concatenate((np.linspace(xmin,1),[1,xmin]))\n",
    "ax1_b.plot(region_x,region_y,color=c_baseline,alpha=alpha_line,linewidth=lw)\n",
    "ax1_b.set_ylim([cv2_monod_frac.min()*0.9,cv2_monod_frac.max()*1.1])\n",
    "ax1_b.set_xticks(np.linspace(0,1,5))\n",
    "ax1_b.set_title('{}. '.format(chr(97+1))+r'$\\it{Monod}$ baseline comparison (full dataset)',fontsize=fs_title)\n",
    "\n",
    "names = ['PF','log','PCA','UMAP']\n",
    "for k in range(4):\n",
    "    ax1[1,k].scatter(cv2_monod_frac_glu[gf],cv2_fracs[k][gf],ms_genes,c_genes,alpha=alpha_genes)\n",
    "    ax1[1,k].scatter(cv2_monod_frac_glu[~gf],cv2_fracs[k][~gf],ms_highlight,c_highlight,alpha=alpha_highlight)\n",
    "    xmin = 0.001\n",
    "    x_id = np.linspace(xmin,1)\n",
    "    ax1[1,k].plot(x_id,x_id,'--',color=c_identity,linewidth=lw)\n",
    "    ax1[1,k].set_yscale('log')\n",
    "    ax1[1,k].set_yscale('log')\n",
    "    ax1[1,k].set_ylim([cv2_fracs[k].min()*0.9,cv2_fracs[k].max()*1.1])\n",
    "    ax1[1,k].set_xlabel(r'$\\it{Monod}$ attribution',fontsize=fs_axes)\n",
    "    ax1[1,k].set_ylabel(r'Attribution after {}'.format(names[k]),fontsize=fs_axes)\n",
    "    ax1[1,k].set_title('{}. Comparison after {}'.format(chr(97+k+2),names[k]),fontsize=fs_title)\n",
    "\n",
    "fig1.tight_layout()\n",
    "fig1.savefig('./figs/monod_glu.png',dpi=450)\n",
    "fig1.savefig('./figs/monod_glu.pdf')\n"
   ]
  },
  {
   "cell_type": "code",
   "execution_count": null,
   "metadata": {},
   "outputs": [],
   "source": []
  },
  {
   "cell_type": "code",
   "execution_count": null,
   "metadata": {},
   "outputs": [],
   "source": []
  },
  {
   "cell_type": "code",
   "execution_count": null,
   "metadata": {},
   "outputs": [],
   "source": []
  },
  {
   "cell_type": "markdown",
   "metadata": {},
   "source": [
    "# Correlations"
   ]
  },
  {
   "cell_type": "code",
   "execution_count": 275,
   "metadata": {},
   "outputs": [
    {
     "data": {
      "text/plain": [
       "(3, 2951)"
      ]
     },
     "execution_count": 275,
     "metadata": {},
     "output_type": "execute_result"
    }
   ],
   "source": [
    "p.shape"
   ]
  },
  {
   "cell_type": "code",
   "execution_count": 276,
   "metadata": {},
   "outputs": [],
   "source": [
    "c2 = -1"
   ]
  },
  {
   "cell_type": "code",
   "execution_count": 277,
   "metadata": {},
   "outputs": [],
   "source": [
    "li = sr_arr[-1].samp_optimum_ind\n",
    "\n",
    "p = 10**sr_arr[c2].param_estimates[li] #b, beta, gamma\n",
    "l = 10**sr_arr[c2].regressor[li]\n",
    "\n",
    "p=p.T\n",
    "l=l.T"
   ]
  },
  {
   "cell_type": "code",
   "execution_count": 278,
   "metadata": {},
   "outputs": [
    {
     "data": {
      "text/plain": [
       "['allen_B08_L23IT',\n",
       " 'allen_B08_L5IT',\n",
       " 'allen_B08_L6IT',\n",
       " 'allen_B08_L56NP',\n",
       " 'allen_B08_L6CT',\n",
       " 'allen_B08_L6b',\n",
       " 'allen_B08_Glutamatergic']"
      ]
     },
     "execution_count": 278,
     "metadata": {},
     "output_type": "execute_result"
    }
   ],
   "source": [
    "dataset_names"
   ]
  },
  {
   "cell_type": "code",
   "execution_count": 279,
   "metadata": {},
   "outputs": [],
   "source": [
    "sd = monod.analysis.load_search_data(sd_strings[c2])\n"
   ]
  },
  {
   "cell_type": "code",
   "execution_count": 280,
   "metadata": {},
   "outputs": [],
   "source": [
    "for x in sr_arr:\n",
    "    x.set_sampling_optimum(li)"
   ]
  },
  {
   "cell_type": "code",
   "execution_count": 281,
   "metadata": {},
   "outputs": [
    {
     "ename": "KeyboardInterrupt",
     "evalue": "",
     "output_type": "error",
     "traceback": [
      "\u001b[0;31m---------------------------------------------------------------------------\u001b[0m",
      "\u001b[0;31mKeyboardInterrupt\u001b[0m                         Traceback (most recent call last)",
      "\u001b[0;32m/tmp/ipykernel_3299750/1437079288.py\u001b[0m in \u001b[0;36m<module>\u001b[0;34m\u001b[0m\n\u001b[0;32m----> 1\u001b[0;31m \u001b[0m_\u001b[0m\u001b[0;34m=\u001b[0m\u001b[0msr_arr\u001b[0m\u001b[0;34m[\u001b[0m\u001b[0mc2\u001b[0m\u001b[0;34m]\u001b[0m\u001b[0;34m.\u001b[0m\u001b[0mchisquare_testing\u001b[0m\u001b[0;34m(\u001b[0m\u001b[0msd\u001b[0m\u001b[0;34m,\u001b[0m\u001b[0mthreshold\u001b[0m\u001b[0;34m=\u001b[0m\u001b[0;36m0.01\u001b[0m\u001b[0;34m)\u001b[0m\u001b[0;34m\u001b[0m\u001b[0;34m\u001b[0m\u001b[0m\n\u001b[0m",
      "\u001b[0;32m~/projects/monod/src/monod/inference.py\u001b[0m in \u001b[0;36mchisquare_testing\u001b[0;34m(self, search_data, viz, EPS, threshold, bonferroni, reject_at_bounds, bound_thr, grouping_thr, use_hellinger, hellinger_thr)\u001b[0m\n\u001b[1;32m   1210\u001b[0m \u001b[0;34m\u001b[0m\u001b[0m\n\u001b[1;32m   1211\u001b[0m             \u001b[0;32mfor\u001b[0m \u001b[0mb_\u001b[0m \u001b[0;32min\u001b[0m \u001b[0mrange\u001b[0m\u001b[0;34m(\u001b[0m\u001b[0mlen\u001b[0m\u001b[0;34m(\u001b[0m\u001b[0mbin_obs\u001b[0m\u001b[0;34m)\u001b[0m\u001b[0;34m)\u001b[0m\u001b[0;34m:\u001b[0m\u001b[0;34m\u001b[0m\u001b[0;34m\u001b[0m\u001b[0m\n\u001b[0;32m-> 1212\u001b[0;31m                 \u001b[0;32massert\u001b[0m \u001b[0mnp\u001b[0m\u001b[0;34m.\u001b[0m\u001b[0misclose\u001b[0m\u001b[0;34m(\u001b[0m\u001b[0mobserved\u001b[0m\u001b[0;34m[\u001b[0m\u001b[0mb_\u001b[0m\u001b[0;34m]\u001b[0m\u001b[0;34m,\u001b[0m \u001b[0mcounts\u001b[0m\u001b[0;34m[\u001b[0m\u001b[0mbins\u001b[0m \u001b[0;34m==\u001b[0m \u001b[0mb_\u001b[0m\u001b[0;34m]\u001b[0m\u001b[0;34m.\u001b[0m\u001b[0msum\u001b[0m\u001b[0;34m(\u001b[0m\u001b[0;34m)\u001b[0m\u001b[0;34m)\u001b[0m\u001b[0;34m\u001b[0m\u001b[0;34m\u001b[0m\u001b[0m\n\u001b[0m\u001b[1;32m   1213\u001b[0m                 \u001b[0;32massert\u001b[0m \u001b[0mnp\u001b[0m\u001b[0;34m.\u001b[0m\u001b[0misclose\u001b[0m\u001b[0;34m(\u001b[0m\u001b[0mproposed\u001b[0m\u001b[0;34m[\u001b[0m\u001b[0mb_\u001b[0m\u001b[0;34m]\u001b[0m\u001b[0;34m,\u001b[0m \u001b[0mexpect_freq\u001b[0m\u001b[0;34m[\u001b[0m\u001b[0mbins\u001b[0m \u001b[0;34m==\u001b[0m \u001b[0mb_\u001b[0m\u001b[0;34m]\u001b[0m\u001b[0;34m.\u001b[0m\u001b[0msum\u001b[0m\u001b[0;34m(\u001b[0m\u001b[0;34m)\u001b[0m\u001b[0;34m)\u001b[0m\u001b[0;34m\u001b[0m\u001b[0;34m\u001b[0m\u001b[0m\n\u001b[1;32m   1214\u001b[0m             \u001b[0;32massert\u001b[0m \u001b[0mnp\u001b[0m\u001b[0;34m.\u001b[0m\u001b[0misclose\u001b[0m\u001b[0;34m(\u001b[0m\u001b[0mobserved\u001b[0m\u001b[0;34m.\u001b[0m\u001b[0msum\u001b[0m\u001b[0;34m(\u001b[0m\u001b[0;34m)\u001b[0m\u001b[0;34m,\u001b[0m \u001b[0msearch_data\u001b[0m\u001b[0;34m.\u001b[0m\u001b[0mn_cells\u001b[0m\u001b[0;34m)\u001b[0m\u001b[0;34m\u001b[0m\u001b[0;34m\u001b[0m\u001b[0m\n",
      "\u001b[0;32m~/miniconda3/lib/python3.9/site-packages/numpy/core/_methods.py\u001b[0m in \u001b[0;36m_sum\u001b[0;34m(a, axis, dtype, out, keepdims, initial, where)\u001b[0m\n\u001b[1;32m     46\u001b[0m def _sum(a, axis=None, dtype=None, out=None, keepdims=False,\n\u001b[1;32m     47\u001b[0m          initial=_NoValue, where=True):\n\u001b[0;32m---> 48\u001b[0;31m     \u001b[0;32mreturn\u001b[0m \u001b[0mumr_sum\u001b[0m\u001b[0;34m(\u001b[0m\u001b[0ma\u001b[0m\u001b[0;34m,\u001b[0m \u001b[0maxis\u001b[0m\u001b[0;34m,\u001b[0m \u001b[0mdtype\u001b[0m\u001b[0;34m,\u001b[0m \u001b[0mout\u001b[0m\u001b[0;34m,\u001b[0m \u001b[0mkeepdims\u001b[0m\u001b[0;34m,\u001b[0m \u001b[0minitial\u001b[0m\u001b[0;34m,\u001b[0m \u001b[0mwhere\u001b[0m\u001b[0;34m)\u001b[0m\u001b[0;34m\u001b[0m\u001b[0;34m\u001b[0m\u001b[0m\n\u001b[0m\u001b[1;32m     49\u001b[0m \u001b[0;34m\u001b[0m\u001b[0m\n\u001b[1;32m     50\u001b[0m def _prod(a, axis=None, dtype=None, out=None, keepdims=False,\n",
      "\u001b[0;31mKeyboardInterrupt\u001b[0m: "
     ]
    }
   ],
   "source": [
    "_=sr_arr[c2].chisquare_testing(sd,threshold=0.01)"
   ]
  },
  {
   "cell_type": "code",
   "execution_count": 282,
   "metadata": {},
   "outputs": [
    {
     "data": {
      "text/plain": [
       "387"
      ]
     },
     "execution_count": 282,
     "metadata": {},
     "output_type": "execute_result"
    }
   ],
   "source": [
    "sr_arr[c2].rejected_genes.sum()"
   ]
  },
  {
   "cell_type": "code",
   "execution_count": 283,
   "metadata": {},
   "outputs": [
    {
     "data": {
      "text/plain": [
       "(2, 2951, 5343)"
      ]
     },
     "execution_count": 283,
     "metadata": {},
     "output_type": "execute_result"
    }
   ],
   "source": [
    "sd.layers.shape"
   ]
  },
  {
   "cell_type": "code",
   "execution_count": 284,
   "metadata": {},
   "outputs": [],
   "source": [
    "SU_corr_l6 = np.array([np.corrcoef(x,y)[0][1] for x,y in zip(sd.layers[0],sd.layers[1])])\n"
   ]
  },
  {
   "cell_type": "code",
   "execution_count": 285,
   "metadata": {},
   "outputs": [
    {
     "data": {
      "text/plain": [
       "(2951,)"
      ]
     },
     "execution_count": 285,
     "metadata": {},
     "output_type": "execute_result"
    }
   ],
   "source": [
    "SU_corr_l6.shape"
   ]
  },
  {
   "cell_type": "code",
   "execution_count": 286,
   "metadata": {},
   "outputs": [],
   "source": [
    "cov_nm_bio = p[0]**2/(p[1]+p[2])\n",
    "mu_n_bio_glu =  p[0]/p[1]\n",
    "var_n_bio_glu = mu_n_bio_glu*(1+p[0])\n",
    "mu_m_bio_glu =  p[0]/p[2]\n",
    "var_m_bio_glu = mu_m_bio_glu*(1+p[0]*p[1]/(p[1]+p[2]))\n",
    "corr_nm_bio = cov_nm_bio/np.sqrt(var_n_bio_glu*var_m_bio_glu)"
   ]
  },
  {
   "cell_type": "code",
   "execution_count": 287,
   "metadata": {},
   "outputs": [],
   "source": [
    "corr_nm_bio[sr_arr[c2].rejected_genes]=np.nan"
   ]
  },
  {
   "cell_type": "code",
   "execution_count": 288,
   "metadata": {},
   "outputs": [],
   "source": [
    "# cov_nm_bio = l[0]*l[1]*p[0]**2/(p[1]+p[2])\n",
    "# mu_n_bio_glu =  l[0]*p[0]/p[1]\n",
    "# var_n_bio_glu = mu_n_bio_glu*(1+l[0]*(1+p[0]))\n",
    "# mu_m_bio_glu =  l[1]*p[0]/p[2]\n",
    "# var_m_bio_glu = mu_m_bio_glu*(1+l[1]*(1+p[0]*p[1]/(p[1]+p[2])))\n",
    "# corr_nm_bio = cov_nm_bio/np.sqrt(var_n_bio_glu*var_m_bio_glu)"
   ]
  },
  {
   "cell_type": "code",
   "execution_count": 289,
   "metadata": {},
   "outputs": [
    {
     "data": {
      "text/plain": [
       "(array([   3.,    3.,    0.,   27.,   68.,  154.,  482., 1024.,  714.,\n",
       "          89.]),\n",
       " array([0.27884348, 0.34636394, 0.41388441, 0.48140488, 0.54892535,\n",
       "        0.61644581, 0.68396628, 0.75148675, 0.81900721, 0.88652768,\n",
       "        0.95404815]),\n",
       " <BarContainer object of 10 artists>)"
      ]
     },
     "execution_count": 289,
     "metadata": {},
     "output_type": "execute_result"
    },
    {
     "data": {
      "image/png": "[encoded data removed]",
      "text/plain": [
       "<Figure size 432x288 with 1 Axes>"
      ]
     },
     "metadata": {
      "needs_background": "light"
     },
     "output_type": "display_data"
    }
   ],
   "source": [
    "plt.hist(SU_corr,alpha=0.4)\n",
    "plt.hist(corr_nm_bio,alpha=0.4)"
   ]
  },
  {
   "cell_type": "code",
   "execution_count": null,
   "metadata": {},
   "outputs": [],
   "source": []
  },
  {
   "cell_type": "code",
   "execution_count": 290,
   "metadata": {},
   "outputs": [],
   "source": [
    "zr = np.log((1+corr_nm_bio)/(1-corr_nm_bio))/2\n",
    "L = zr-1.95/np.sqrt(n_cells[c2]-3)\n",
    "U_ = zr+1.95/np.sqrt(n_cells[c2]-3)\n",
    "\n",
    "L = (np.exp(2*L)-1)/(np.exp(2*L)+1)\n",
    "U_ = (np.exp(2*U_)-1)/(np.exp(2*U_)+1)\n",
    "ypos = U_-corr_nm_bio\n",
    "yneg = corr_nm_bio-L"
   ]
  },
  {
   "cell_type": "code",
   "execution_count": 291,
   "metadata": {},
   "outputs": [],
   "source": [
    "zr = np.log((1+SU_corr_l6)/(1-SU_corr_l6))/2\n",
    "L = zr-1.95/np.sqrt(n_cells[c2]-3)\n",
    "U_ = zr+1.95/np.sqrt(n_cells[c2]-3)\n",
    "\n",
    "L = (np.exp(2*L)-1)/(np.exp(2*L)+1)\n",
    "U_ = (np.exp(2*U_)-1)/(np.exp(2*U_)+1)\n",
    "xpos = U_-SU_corr_l6\n",
    "xneg = SU_corr_l6-L"
   ]
  },
  {
   "cell_type": "code",
   "execution_count": 292,
   "metadata": {},
   "outputs": [
    {
     "data": {
      "text/plain": [
       "148"
      ]
     },
     "execution_count": 292,
     "metadata": {},
     "output_type": "execute_result"
    }
   ],
   "source": [
    "(~gf).sum()"
   ]
  },
  {
   "cell_type": "code",
   "execution_count": 293,
   "metadata": {
    "scrolled": false
   },
   "outputs": [
    {
     "data": {
      "text/plain": [
       "Text(0, 0.5, 'Predicted biological N/M correlation')"
      ]
     },
     "execution_count": 293,
     "metadata": {},
     "output_type": "execute_result"
    },
    {
     "data": {
      "image/png": "[encoded data removed]",
      "text/plain": [
       "<Figure size 360x360 with 1 Axes>"
      ]
     },
     "metadata": {
      "needs_background": "light"
     },
     "output_type": "display_data"
    }
   ],
   "source": [
    "# plt.errorbar(SU_corr_l6,corr_nm_bio,yerr=np.asarray([yneg,ypos]),linestyle='',alpha=0.4,color='k')\n",
    "fig1,ax1 = plt.subplots(1,1,figsize=(5,5))\n",
    "\n",
    "xl = [min(SU_corr_l6),max(SU_corr_l6)]\n",
    "# ax1.errorbar(SU_corr_l6[gf],corr_nm_bio[gf],xerr=np.asarray([xneg[gf],xpos[gf]]),linestyle='',alpha=0.4,color='k')\n",
    "# ax1.errorbar(SU_corr_l6[~gf],corr_nm_bio[~gf],xerr=np.asarray([xneg[~gf],xpos[~gf]]),linestyle='',alpha=0.5,color='r')\n",
    "\n",
    "ax1.errorbar(SU_corr_l6[gf],corr_nm_bio[gf],yerr=np.asarray([yneg[gf],ypos[gf]]),linestyle='',alpha=0.4,color='k')\n",
    "ax1.errorbar(SU_corr_l6[~gf],corr_nm_bio[~gf],yerr=np.asarray([yneg[~gf],ypos[~gf]]),linestyle='',alpha=0.5,color='r')\n",
    "ax1.plot(xl,xl,'r--')\n",
    "\n",
    "ax1.set_xlabel('Raw N/M correlation')\n",
    "ax1.set_ylabel('Predicted biological N/M correlation')"
   ]
  },
  {
   "cell_type": "code",
   "execution_count": 294,
   "metadata": {},
   "outputs": [
    {
     "data": {
      "text/plain": [
       "array(['Inpp4a', 'Ptprn', 'Itm2c', 'Epha4', 'Atp1b1', 'Lpgat1', 'Psap',\n",
       "       'Serinc1', 'Zwint', 'Ank3', 'Spock2', 'Actr2', 'Camk2b', 'Hlf',\n",
       "       'Sptbn1', 'Rbfox3', 'Nsg2', 'Adcy1', 'Gabra1', 'Ddx5', 'Pafah1b1',\n",
       "       'Nsf', 'Prkar1a', 'Rtn4', 'Ywhae', 'Cyfip2', 'Mapt', 'Rock2',\n",
       "       'Myt1l', 'Rtn1', 'Vsnl1', 'Rian', 'Mef2c', 'Cplx2', 'Rgs7bp',\n",
       "       'Map1b', 'Ntrk2', 'Smim13', 'Ppp3cb', 'Dpysl2', 'Fzd3', 'Mycbp2',\n",
       "       'Cntn1', 'Ywhaz', 'Arf3', 'Basp1', 'Scn8a', 'Ncald', 'App',\n",
       "       'Gsk3b', 'Atp6v1a', 'Mapk1', 'Cd47', 'Ttc3', 'Synj1', 'Pja2',\n",
       "       'Ptprs', 'Slc8a1', 'Prkce', 'Celf4', 'Impact', 'Ndfip1', 'Camk2a',\n",
       "       'Pura', 'Tcf4', 'Pten', 'Gnaq', 'Rtn3', 'Klf9', 'Gda', 'Ywhab',\n",
       "       'Kif5c', 'Olfm1', 'Scn2a', 'Nckap1', 'Napb', 'Stxbp1', 'Fam171b',\n",
       "       'Kcnb1', 'Ndrg3', 'Chn1', 'Dnajc5', 'Dnm1', 'Slc12a5', 'Rasgrp1',\n",
       "       'Stmn3', 'Prkacb', 'Stmn2', 'Sec62', 'Rap1gds1', 'Atp1a1', 'Ank2',\n",
       "       'Dclk1', 'Plppr4', 'Gria2', 'Syt11', 'Hpca', 'Kif1b', 'Gnb1',\n",
       "       'Efhd2', 'Clstn1', 'Slc24a2', 'Nfib', 'Frrs1l', 'Fut9', 'Gabbr2',\n",
       "       'Prkar1b', 'Ppp2r2c', 'Atp2a2', 'Adam22', 'Ywhag', 'Rph3a',\n",
       "       'Camkk2', 'Mtpn', 'Gabarapl1', 'Ppp1r9a', 'Grin2b', 'Atp2b2',\n",
       "       'Snca', 'Rab6a', 'Pak1', 'Pgm2l1', 'Snrpn', 'Klf13', 'Prkcb',\n",
       "       'Atp1a3', 'Sv2b', 'Shank1', 'Ncan', 'Atp6v1b2', 'Gpm6a', 'Gnao1',\n",
       "       'Cx3cl1', 'Cpe', 'Tcf25', 'Fam81a', 'Tmem30a', 'Arpp21', 'Rab6b',\n",
       "       'Bsn', 'Lingo1', 'Sorl1', 'Tmod2', 'Ncam1', 'Igsf9b', 'Gria3',\n",
       "       'Tspan7', 'Syn1'], dtype='<U16')"
      ]
     },
     "execution_count": 294,
     "metadata": {},
     "output_type": "execute_result"
    }
   ],
   "source": [
    "sd.gene_names[~gf]"
   ]
  },
  {
   "cell_type": "code",
   "execution_count": 295,
   "metadata": {},
   "outputs": [],
   "source": [
    "gf_violat = corr_nm_bio<SU_corr_l6"
   ]
  },
  {
   "cell_type": "code",
   "execution_count": 296,
   "metadata": {
    "scrolled": false
   },
   "outputs": [
    {
     "data": {
      "text/plain": [
       "(array([1., 0., 0., 0., 0., 0., 0., 0., 0., 0., 0., 0., 0., 0., 0., 0., 0.,\n",
       "        0., 0., 0., 0., 0., 0., 0., 0., 0., 0., 0., 0., 1.]),\n",
       " array([  5.47016863,   8.74701148,  12.02385433,  15.30069717,\n",
       "         18.57754002,  21.85438286,  25.13122571,  28.40806855,\n",
       "         31.6849114 ,  34.96175424,  38.23859709,  41.51543993,\n",
       "         44.79228278,  48.06912562,  51.34596847,  54.62281132,\n",
       "         57.89965416,  61.17649701,  64.45333985,  67.7301827 ,\n",
       "         71.00702554,  74.28386839,  77.56071123,  80.83755408,\n",
       "         84.11439692,  87.39123977,  90.66808261,  93.94492546,\n",
       "         97.22176831, 100.49861115, 103.775454  ]),\n",
       " <BarContainer object of 30 artists>)"
      ]
     },
     "execution_count": 296,
     "metadata": {},
     "output_type": "execute_result"
    },
    {
     "data": {
      "image/png": "[encoded data removed]",
      "text/plain": [
       "<Figure size 432x288 with 1 Axes>"
      ]
     },
     "metadata": {
      "needs_background": "light"
     },
     "output_type": "display_data"
    }
   ],
   "source": [
    "plt.hist(p[0,gf_violat],30)"
   ]
  },
  {
   "cell_type": "code",
   "execution_count": 297,
   "metadata": {},
   "outputs": [
    {
     "data": {
      "text/plain": [
       "0"
      ]
     },
     "execution_count": 297,
     "metadata": {},
     "output_type": "execute_result"
    }
   ],
   "source": [
    "((~gf)&gf_violat).sum()"
   ]
  },
  {
   "cell_type": "code",
   "execution_count": 298,
   "metadata": {},
   "outputs": [
    {
     "data": {
      "text/plain": [
       "2"
      ]
     },
     "execution_count": 298,
     "metadata": {},
     "output_type": "execute_result"
    }
   ],
   "source": [
    "(corr_nm_bio<SU_corr_l6).sum()"
   ]
  },
  {
   "cell_type": "code",
   "execution_count": 299,
   "metadata": {},
   "outputs": [
    {
     "data": {
      "text/plain": [
       "[<matplotlib.lines.Line2D at 0x7f0433d10580>]"
      ]
     },
     "execution_count": 299,
     "metadata": {},
     "output_type": "execute_result"
    },
    {
     "data": {
      "image/png": "[encoded data removed]",
      "text/plain": [
       "<Figure size 360x360 with 1 Axes>"
      ]
     },
     "metadata": {
      "needs_background": "light"
     },
     "output_type": "display_data"
    }
   ],
   "source": [
    "fig1,ax1 = plt.subplots(1,1,figsize=(5,5))\n",
    "\n",
    "xl = [min(SU_corr),max(SU_corr)]\n",
    "ax1.scatter(SU_corr_l6,corr_nm_bio,3,'k',alpha=0.6)\n",
    "ax1.plot(xl,xl,'r--')\n"
   ]
  },
  {
   "cell_type": "code",
   "execution_count": 300,
   "metadata": {},
   "outputs": [
    {
     "data": {
      "text/plain": [
       "[<matplotlib.lines.Line2D at 0x7f0433c940d0>]"
      ]
     },
     "execution_count": 300,
     "metadata": {},
     "output_type": "execute_result"
    },
    {
     "data": {
      "image/png": "[encoded data removed]",
      "text/plain": [
       "<Figure size 360x360 with 1 Axes>"
      ]
     },
     "metadata": {
      "needs_background": "light"
     },
     "output_type": "display_data"
    }
   ],
   "source": [
    "fig1,ax1 = plt.subplots(1,1,figsize=(5,5))\n",
    "\n",
    "xl = [min(SU_corr),max(SU_corr)]\n",
    "ax1.scatter(SU_corr_l6[gf],corr_nm_bio[gf],3,'k',alpha=0.2)\n",
    "ax1.scatter(SU_corr_l6[~gf],corr_nm_bio[~gf],10,'r',alpha=0.5)\n",
    "ax1.plot(xl,xl,'r--')\n"
   ]
  },
  {
   "cell_type": "code",
   "execution_count": 304,
   "metadata": {},
   "outputs": [
    {
     "data": {
      "text/plain": [
       "2951"
      ]
     },
     "execution_count": 304,
     "metadata": {},
     "output_type": "execute_result"
    }
   ],
   "source": [
    "len(SU_corr_l6)"
   ]
  },
  {
   "cell_type": "code",
   "execution_count": 301,
   "metadata": {},
   "outputs": [
    {
     "ename": "IndexError",
     "evalue": "boolean index did not match indexed array along dimension 0; dimension is 32285 but corresponding boolean dimension is 2951",
     "output_type": "error",
     "traceback": [
      "\u001b[0;31m---------------------------------------------------------------------------\u001b[0m",
      "\u001b[0;31mIndexError\u001b[0m                                Traceback (most recent call last)",
      "\u001b[0;32m/tmp/ipykernel_3299750/3266939639.py\u001b[0m in \u001b[0;36m<module>\u001b[0;34m\u001b[0m\n\u001b[1;32m      2\u001b[0m \u001b[0;34m\u001b[0m\u001b[0m\n\u001b[1;32m      3\u001b[0m \u001b[0mxl\u001b[0m \u001b[0;34m=\u001b[0m \u001b[0;34m[\u001b[0m\u001b[0mmin\u001b[0m\u001b[0;34m(\u001b[0m\u001b[0mSU_corr\u001b[0m\u001b[0;34m)\u001b[0m\u001b[0;34m,\u001b[0m\u001b[0mmax\u001b[0m\u001b[0;34m(\u001b[0m\u001b[0mSU_corr\u001b[0m\u001b[0;34m)\u001b[0m\u001b[0;34m]\u001b[0m\u001b[0;34m\u001b[0m\u001b[0;34m\u001b[0m\u001b[0m\n\u001b[0;32m----> 4\u001b[0;31m \u001b[0max1\u001b[0m\u001b[0;34m[\u001b[0m\u001b[0;36m0\u001b[0m\u001b[0;34m]\u001b[0m\u001b[0;34m.\u001b[0m\u001b[0mscatter\u001b[0m\u001b[0;34m(\u001b[0m\u001b[0mSU_corr\u001b[0m\u001b[0;34m[\u001b[0m\u001b[0mgf\u001b[0m\u001b[0;34m]\u001b[0m\u001b[0;34m,\u001b[0m\u001b[0mSU_corr_PF\u001b[0m\u001b[0;34m[\u001b[0m\u001b[0mgf\u001b[0m\u001b[0;34m]\u001b[0m\u001b[0;34m,\u001b[0m\u001b[0;36m3\u001b[0m\u001b[0;34m,\u001b[0m\u001b[0;34m'k'\u001b[0m\u001b[0;34m,\u001b[0m\u001b[0malpha\u001b[0m\u001b[0;34m=\u001b[0m\u001b[0;36m0.2\u001b[0m\u001b[0;34m)\u001b[0m\u001b[0;34m\u001b[0m\u001b[0;34m\u001b[0m\u001b[0m\n\u001b[0m\u001b[1;32m      5\u001b[0m \u001b[0max1\u001b[0m\u001b[0;34m[\u001b[0m\u001b[0;36m0\u001b[0m\u001b[0;34m]\u001b[0m\u001b[0;34m.\u001b[0m\u001b[0mscatter\u001b[0m\u001b[0;34m(\u001b[0m\u001b[0mSU_corr\u001b[0m\u001b[0;34m[\u001b[0m\u001b[0;34m~\u001b[0m\u001b[0mgf\u001b[0m\u001b[0;34m]\u001b[0m\u001b[0;34m,\u001b[0m\u001b[0mSU_corr_PF\u001b[0m\u001b[0;34m[\u001b[0m\u001b[0;34m~\u001b[0m\u001b[0mgf\u001b[0m\u001b[0;34m]\u001b[0m\u001b[0;34m,\u001b[0m\u001b[0;36m10\u001b[0m\u001b[0;34m,\u001b[0m\u001b[0;34m'r'\u001b[0m\u001b[0;34m,\u001b[0m\u001b[0malpha\u001b[0m\u001b[0;34m=\u001b[0m\u001b[0;36m0.5\u001b[0m\u001b[0;34m)\u001b[0m\u001b[0;34m\u001b[0m\u001b[0;34m\u001b[0m\u001b[0m\n\u001b[1;32m      6\u001b[0m \u001b[0max1\u001b[0m\u001b[0;34m[\u001b[0m\u001b[0;36m0\u001b[0m\u001b[0;34m]\u001b[0m\u001b[0;34m.\u001b[0m\u001b[0mplot\u001b[0m\u001b[0;34m(\u001b[0m\u001b[0mxl\u001b[0m\u001b[0;34m,\u001b[0m\u001b[0mxl\u001b[0m\u001b[0;34m,\u001b[0m\u001b[0;34m'r--'\u001b[0m\u001b[0;34m)\u001b[0m\u001b[0;34m\u001b[0m\u001b[0;34m\u001b[0m\u001b[0m\n",
      "\u001b[0;31mIndexError\u001b[0m: boolean index did not match indexed array along dimension 0; dimension is 32285 but corresponding boolean dimension is 2951"
     ]
    },
    {
     "data": {
      "image/png": "[encoded data removed]",
      "text/plain": [
       "<Figure size 1152x288 with 4 Axes>"
      ]
     },
     "metadata": {
      "needs_background": "light"
     },
     "output_type": "display_data"
    }
   ],
   "source": [
    "fig1,ax1 = plt.subplots(1,4,figsize=(16,4))\n",
    "\n",
    "xl = [min(SU_corr),max(SU_corr)]\n",
    "ax1[0].scatter(SU_corr[gf],SU_corr_PF[gf],3,'k',alpha=0.2)\n",
    "ax1[0].scatter(SU_corr[~gf],SU_corr_PF[~gf],10,'r',alpha=0.5)\n",
    "ax1[0].plot(xl,xl,'r--')\n",
    "\n",
    "xl = [min(SU_corr),max(SU_corr)]\n",
    "ax1[1].scatter(SU_corr[gf],SU_corr_log[gf],3,'k',alpha=0.2)\n",
    "ax1[1].scatter(SU_corr[~gf],SU_corr_log[~gf],10,'r',alpha=0.5)\n",
    "ax1[1].plot(xl,xl,'r--')\n",
    "\n",
    "xl = [min(SU_corr),max(SU_corr)]\n",
    "ax1[2].scatter(SU_corr[gf],SU_corr_PCA[gf],3,'k',alpha=0.2)\n",
    "ax1[2].scatter(SU_corr[~gf],SU_corr_PCA[~gf],10,'r',alpha=0.5)\n",
    "ax1[2].plot(xl,xl,'r--')\n",
    "\n",
    "xl = [min(SU_corr),max(SU_corr)]\n",
    "ax1[3].scatter(SU_corr[gf],SU_corr_UMAP[gf],3,'k',alpha=0.2)\n",
    "ax1[3].scatter(SU_corr[~gf],SU_corr_UMAP[~gf],10,'r',alpha=0.5)\n",
    "ax1[3].plot(xl,xl,'r--')\n",
    "for i,ax in enumerate(ax1):\n",
    "    ax.set_title(steps[i+1])\n",
    "    ax.set_xlabel('nas/mat corr (raw)')\n",
    "    ax.set_ylabel('nas/mat corr after step')\n",
    "fig1.tight_layout()"
   ]
  },
  {
   "cell_type": "code",
   "execution_count": 622,
   "metadata": {},
   "outputs": [
    {
     "data": {
      "text/plain": [
       "(1475,)"
      ]
     },
     "execution_count": 622,
     "metadata": {},
     "output_type": "execute_result"
    }
   ],
   "source": [
    "SU_corr_PCA.shape"
   ]
  },
  {
   "cell_type": "code",
   "execution_count": null,
   "metadata": {},
   "outputs": [],
   "source": []
  }
 ],
 "metadata": {
  "colab": {
   "collapsed_sections": [],
   "include_colab_link": true,
   "name": "gg220406_refactor.ipynb",
   "provenance": []
  },
  "kernelspec": {
   "display_name": "Python 3",
   "language": "python",
   "name": "python3"
  },
  "language_info": {
   "codemirror_mode": {
    "name": "ipython",
    "version": 3
   },
   "file_extension": ".py",
   "mimetype": "text/x-python",
   "name": "python",
   "nbconvert_exporter": "python",
   "pygments_lexer": "ipython3",
   "version": "3.9.1"
  }
 },
 "nbformat": 4,
 "nbformat_minor": 1
}
