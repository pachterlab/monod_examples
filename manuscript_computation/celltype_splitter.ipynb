{
 "cells": [
  {
   "cell_type": "markdown",
   "id": "5af2cc1e",
   "metadata": {},
   "source": [
    "This notebook splits the Allen C01 datasets into glutamatergic and GABAergic subsets."
   ]
  },
  {
   "cell_type": "code",
   "execution_count": 2,
   "id": "7e467257",
   "metadata": {},
   "outputs": [],
   "source": [
    "import loompy as lp\n",
    "import pandas as pd\n",
    "import numpy as np\n",
    "import scipy\n",
    "from scipy import sparse\n",
    "import matplotlib.pyplot as plt\n",
    "import time\n",
    "import os.path\n"
   ]
  },
  {
   "cell_type": "code",
   "execution_count": 14,
   "id": "3f7e3428",
   "metadata": {},
   "outputs": [
    {
     "name": "stdout",
     "output_type": "stream",
     "text": [
      "Using device:  cpu\n"
     ]
    }
   ],
   "source": [
    "import sys\n",
    "sys.path.insert(0, '/home/ggorin/projects/monod/src/')\n",
    "import monod\n",
    "from monod import preprocess, extract_data, cme_toolbox, inference, analysis\n"
   ]
  },
  {
   "cell_type": "code",
   "execution_count": 16,
   "id": "2119be26",
   "metadata": {},
   "outputs": [],
   "source": [
    "dataset_meta = ['C01']\n",
    "# \n",
    "# subcluster_names = ['L2/3 IT','L5 IT','L6 IT','L5/6 NP', 'L6 CT', 'L6b']\n",
    "# subcluster_names = [x.replace(' ','').replace('/','') for x in subcluster_names]\n",
    "cluster_names = ['Glutamatergic','GABAergic']\n",
    "dataset_names =  ['allen_'+x+'_'+y for x in dataset_meta for y in cluster_names]  \n",
    "raw_data_locations = [x for x in dataset_meta for y in cluster_names]\n",
    "transcriptome_filepath = '../polyA_ref/gg_200524_mouse_genome_polyA_cum_1'\n",
    "\n",
    "spliced_layer = 'spliced'\n",
    "unspliced_layer = 'unspliced'\n",
    "gene_attr = 'gene_name'\n",
    "cell_attr = 'barcode'\n",
    "\n",
    "attribute_names=[(unspliced_layer,spliced_layer),gene_attr,cell_attr]\n",
    "\n",
    "loom_filepaths = ['/home/ggorin/count_data/loom_allen_kb/allen_'+x+'_raw.loom' for x in raw_data_locations] \n",
    "n_datasets = len(loom_filepaths)\n"
   ]
  },
  {
   "cell_type": "code",
   "execution_count": 17,
   "id": "3ab87f20",
   "metadata": {},
   "outputs": [],
   "source": [
    "\n",
    "import pandas as pd\n",
    "import numpy as np\n",
    "import loompy as lp\n",
    "import matplotlib.pyplot as plt\n",
    "import scipy\n"
   ]
  },
  {
   "cell_type": "code",
   "execution_count": 18,
   "id": "cf97bbd9",
   "metadata": {},
   "outputs": [],
   "source": [
    "allen_membership = pd.read_csv('~/count_data/allen_metadata/sc/cluster.membership.csv',skiprows = 1, names=['barcode','cluster_id'])\n",
    "allen_annot = pd.read_csv('~/count_data/allen_metadata/sc/cluster.annotation.csv')\n",
    "allen_membership['cell_barcode'] = allen_membership['barcode'].str[:16]\n",
    "allen_membership['sample'] = allen_membership['barcode'].str[-3:]\n",
    "allen_membership['cluster_id'] = allen_membership['cluster_id'].astype(\"category\")\n",
    "allen_annot.set_index('cluster_id',inplace=True)\n",
    "allen_annot_bc = allen_annot.loc[allen_membership['cluster_id']][['cluster_label','subclass_label','class_label']].set_index(allen_membership.index)\n",
    "meta = pd.concat((allen_membership,allen_annot_bc),axis=1)\n",
    "omitted_subtypes = ()\n"
   ]
  },
  {
   "cell_type": "code",
   "execution_count": 19,
   "id": "236ef67b",
   "metadata": {},
   "outputs": [
    {
     "data": {
      "text/plain": [
       "['C01', 'C01']"
      ]
     },
     "execution_count": 19,
     "metadata": {},
     "output_type": "execute_result"
    }
   ],
   "source": [
    "raw_data_locations"
   ]
  },
  {
   "cell_type": "code",
   "execution_count": 20,
   "id": "f6318a73",
   "metadata": {},
   "outputs": [
    {
     "name": "stdout",
     "output_type": "stream",
     "text": [
      "Dataset C01. \n",
      "\t12363 barcodes in loom, 11116 pass filter. 10173 in annotations; of these, 10138 in loom and 9066 in filtered loom.\n",
      "\tGlutamatergic: 6702 cells in annotations. 6699 in loom. 6629 pass filter.\n",
      "\tGABAergic: 750 cells in annotations. 750 in loom. 728 pass filter.\n"
     ]
    },
    {
     "data": {
      "image/png": "[encoded data removed]",
      "text/plain": [
       "<Figure size 360x360 with 1 Axes>"
      ]
     },
     "metadata": {
      "needs_background": "light"
     },
     "output_type": "display_data"
    }
   ],
   "source": [
    "cf = []\n",
    "thr_lb = [1e4]*4\n",
    "\n",
    "fig1,ax1 = plt.subplots(1,1,figsize=(5,5))\n",
    "\n",
    "for k in range(len(dataset_meta)):\n",
    "    filename = loom_filepaths[0]\n",
    "    dataset_name = raw_data_locations[0]\n",
    "    \n",
    "    with lp.connect(filename,mode='r') as ds:\n",
    "        S = ds.layers[spliced_layer][:]\n",
    "        U = ds.layers[unspliced_layer][:]\n",
    "        gene_names = ds.ra[gene_attr]\n",
    "        bcs = ds.ca[cell_attr]\n",
    "        n_cells = S.shape[1]\n",
    "        monod.preprocess.knee_plot(S+U,ax1,viz=True,thr=thr_lb[k])\n",
    "        cf_ = ((S+U).sum(0)>thr_lb[k])\n",
    "        \n",
    "        n_annot_bcs = (meta['sample']==dataset_name).sum()\n",
    "        annot_bcs_in_loom = meta[(meta['sample']==dataset_name)]['cell_barcode'].isin(bcs).sum()\n",
    "        annot_bcs_in_filt_loom = meta[(meta['sample']==dataset_name)]['cell_barcode'].isin(bcs[cf_]).sum()\n",
    "        print(f'Dataset {dataset_name}. \\n\\t{len(bcs)} barcodes in loom, {cf_.sum()} pass filter. {n_annot_bcs} in annotations; of these, {annot_bcs_in_loom} in loom and {annot_bcs_in_filt_loom} in filtered loom.')\n",
    "        \n",
    "        for cluster in cluster_names:\n",
    "            annot_bcs = meta[(meta['sample']==dataset_name) \\\n",
    "                                       & (meta['class_label']==cluster) \\\n",
    "                                       & ~(meta['subclass_label'].isin(omitted_subtypes))]['cell_barcode']\n",
    "            cf.append(np.isin(bcs,annot_bcs) & cf_)\n",
    "            print(f'\\t{cluster}: {len(annot_bcs)} cells in annotations. {np.isin(bcs,annot_bcs).sum()} in loom. {cf[-1].sum()} pass filter.')\n",
    "    ax1.set_title(dataset_name)\n",
    "# fig_dir = './figs/'\n",
    "# fig_string = fig_dir + 'kneeplots_allen_B08.png'\n",
    "fig1.tight_layout()\n",
    "# plt.savefig(fig_string,dpi=450)\n"
   ]
  },
  {
   "cell_type": "code",
   "execution_count": 23,
   "id": "cd5a360a",
   "metadata": {},
   "outputs": [],
   "source": [
    "outdir = '/home/ggorin/projects/monod_examples/sample_data/'"
   ]
  },
  {
   "cell_type": "code",
   "execution_count": 30,
   "id": "6501fe8c",
   "metadata": {},
   "outputs": [
    {
     "data": {
      "text/plain": [
       "(32285, 6629)"
      ]
     },
     "execution_count": 30,
     "metadata": {},
     "output_type": "execute_result"
    }
   ],
   "source": [
    "S[:,cf[0]].shape"
   ]
  },
  {
   "cell_type": "code",
   "execution_count": 33,
   "id": "e741102e",
   "metadata": {},
   "outputs": [
    {
     "name": "stdout",
     "output_type": "stream",
     "text": [
      "(32285, 6629)\n",
      "(32285, 728)\n"
     ]
    }
   ],
   "source": [
    "celltype_abbr = ['glu','gaba']\n",
    "for i in range(len(cluster_names)):\n",
    "    S_ = S[:,cf[i]]\n",
    "    U_ = U[:,cf[i]]\n",
    "    bc_filt = bcs[cf[i]]\n",
    "    lp.create(outdir+'allen_{}_{}.loom'.format(dataset_meta[0],celltype_abbr[i]),\\\n",
    "          layers={'':scipy.sparse.csr_matrix(S_.shape),\n",
    "                  spliced_layer:S_,\n",
    "                  unspliced_layer:U_},\\\n",
    "                  row_attrs={gene_attr:gene_names},\\\n",
    "                  col_attrs={cell_attr:bc_filt})\n",
    "    print(S_.shape)"
   ]
  },
  {
   "cell_type": "code",
   "execution_count": 34,
   "id": "73d0bb41",
   "metadata": {},
   "outputs": [
    {
     "name": "stdout",
     "output_type": "stream",
     "text": [
      "tar: Removing leading `/' from member names\r\n",
      "/home/ggorin/projects/monod_examples/sample_data/allen_C01_gaba.loom\r\n"
     ]
    }
   ],
   "source": [
    "!tar cvzf - /home/ggorin/projects/monod_examples/sample_data/allen_C01_gaba.loom | split --bytes=50MB - /home/ggorin/projects/monod_examples/sample_data/allen_C01_gaba.tar.gz.\n"
   ]
  },
  {
   "cell_type": "code",
   "execution_count": 35,
   "id": "2d82b0c3",
   "metadata": {},
   "outputs": [
    {
     "name": "stdout",
     "output_type": "stream",
     "text": [
      "tar: Removing leading `/' from member names\r\n",
      "/home/ggorin/projects/monod_examples/sample_data/allen_C01_glu.loom\r\n"
     ]
    }
   ],
   "source": [
    "!tar cvzf - /home/ggorin/projects/monod_examples/sample_data/allen_C01_glu.loom | split --bytes=50MB - /home/ggorin/projects/monod_examples/sample_data/allen_C01_glu.tar.gz.\n"
   ]
  },
  {
   "cell_type": "code",
   "execution_count": null,
   "id": "bfa65cf8",
   "metadata": {},
   "outputs": [],
   "source": []
  }
 ],
 "metadata": {
  "kernelspec": {
   "display_name": "Python 3",
   "language": "python",
   "name": "python3"
  },
  "language_info": {
   "codemirror_mode": {
    "name": "ipython",
    "version": 3
   },
   "file_extension": ".py",
   "mimetype": "text/x-python",
   "name": "python",
   "nbconvert_exporter": "python",
   "pygments_lexer": "ipython3",
   "version": "3.9.1"
  }
 },
 "nbformat": 4,
 "nbformat_minor": 5
}
