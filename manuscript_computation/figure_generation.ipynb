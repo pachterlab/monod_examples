{
 "cells": [
  {
   "cell_type": "code",
   "execution_count": 113,
   "id": "4c110cac",
   "metadata": {},
   "outputs": [],
   "source": [
    "import sys\n",
    "sys.path.insert(0, '/home/ggorin/projects/monod/src/')\n",
    "import monod\n",
    "from monod import preprocess, extract_data, cme_toolbox, inference, analysis\n"
   ]
  },
  {
   "cell_type": "code",
   "execution_count": 114,
   "id": "57e519f1",
   "metadata": {},
   "outputs": [],
   "source": [
    "import pandas as pd\n",
    "import numpy as np\n",
    "import loompy as lp\n",
    "import matplotlib\n",
    "import matplotlib.pyplot as plt\n",
    "import scipy\n"
   ]
  },
  {
   "cell_type": "code",
   "execution_count": 115,
   "id": "0440ef37",
   "metadata": {},
   "outputs": [],
   "source": [
    "spliced_layer = 'spliced'\n",
    "unspliced_layer = 'unspliced'\n",
    "gene_attr = 'gene_name'\n",
    "cell_attr = 'barcode'\n",
    "\n",
    "attribute_names=[(unspliced_layer,spliced_layer),gene_attr,cell_attr]\n"
   ]
  },
  {
   "cell_type": "code",
   "execution_count": 116,
   "id": "d4c832fe",
   "metadata": {},
   "outputs": [],
   "source": [
    "dict_locations = ['../polyA_ref/' + x for x in ['gg_200525_genome_polyA_cum_3','gg_200524_mouse_genome_polyA_cum_1']]\n",
    "transcriptome_dicts = [monod.preprocess.get_transcriptome(x) for x in dict_locations] #human then mouse\n"
   ]
  },
  {
   "cell_type": "code",
   "execution_count": 224,
   "id": "77f83264",
   "metadata": {},
   "outputs": [],
   "source": [
    "from matplotlib.colors import ListedColormap\n",
    "\n",
    "c1 = [173/255,214/255,200/255]\n",
    "c2 = [59/255,131/255,130/255]\n",
    "ncol=50\n",
    "cmap_histogram = ListedColormap(np.array([np.linspace(c2[j],c1[j],ncol) for j in range(3)]).T)\n",
    "\n",
    "c1 = [0,0,0,0]\n",
    "# c2 = [1,1,1,1]\n",
    "c2 = [235/255,228/255,143/255,1]\n",
    "ncol=2\n",
    "cmap_highlight_landscape = ListedColormap(np.array([np.linspace(c2[j],c1[j],ncol) for j in range(4)]).T)\n",
    "\n",
    "\n",
    "aesthetics = \\\n",
    "    {'selected_markersize_body':2.2,'omitted_markersize_body':1.8,\n",
    "     'selected_markersize_supp':2.2,'selected_markersize_supp':1.8,\n",
    "     'selected_color':np.array([212,107,75])/255,\n",
    "     'omitted_color':'lightgray',\n",
    "     'selected_alpha':0.3,'omitted_alpha':0.1,'fontsize_body_axes':14,'fontsize_body_title':16,\n",
    "     'pmf_colormap':cmap_histogram,\n",
    "     'landscape_colormap':cmap_histogram,\n",
    "     'landscape_highlight_colormap':cmap_highlight_landscape,\n",
    "     'optimum_color':[212/255,107/255,75/255],\n",
    "     'optimum_markersize':100,\n",
    "     'highlighted_optimum_markersize':300,\n",
    "     'dataset_colors':('violet','darkorchid','rebeccapurple','midnightblue'),\n",
    "     \"accepted_gene_color\": [203/255,197/255,149/255],\n",
    "     \"rejected_gene_color\": \"darkgrey\",\n",
    "     \"accepted_gene_alpha\": 0.4,\n",
    "     \"rejected_gene_alpha\": 0.5,\n",
    "     \"accepted_gene_ms\": 5,\n",
    "     \"rejected_gene_ms\": 5,\n",
    "     'hist_face_color':'lightgray',\n",
    "     \"hist_fit_color\":  [59/255,131/255,130/255],\n",
    "     \"hist_fit_lw\": 3,\n",
    "     'identity_line_color':[212/255,107/255,75/255],\n",
    "     'identity_lw':3,\n",
    "     'v2_gene_color':[39/255]*3,\n",
    "     'celltype_diffs_gene_color':[39/255]*3,\n",
    "     'celltype_colors_pbmc':('orange','teal','mediumvioletred'),\n",
    "     'celltype_colors_allen':('lightcoral','lightseagreen'),\n",
    "     'condition_colors_desai':('lightgreen','magenta'),\n",
    "     'high_noise_gene_color':'orangered',\n",
    "     'celltype_marker_alpha':0.8,\n",
    "     'celltype_diffs_gene_alpha':0.3,\n",
    "     'celltype_diffs_ms':4,\n",
    "     'celltype_marker_ms':60,\n",
    "     'partition_line_color':'lightcoral',\n",
    "}\n"
   ]
  },
  {
   "cell_type": "code",
   "execution_count": 225,
   "id": "ddcd7b23",
   "metadata": {},
   "outputs": [],
   "source": [
    "figdir = './figs'\n"
   ]
  },
  {
   "cell_type": "code",
   "execution_count": 226,
   "id": "b58fc97f",
   "metadata": {},
   "outputs": [],
   "source": [
    "dataset_name_list = [['desai_'+x for x in ['dmso','idu']]]\n"
   ]
  },
  {
   "cell_type": "code",
   "execution_count": 403,
   "id": "ea2679e8",
   "metadata": {},
   "outputs": [],
   "source": [
    "desai_datasets = dataset_name_list[0]\n",
    "\n",
    "desai_batch_dir = 'gg_230322_026_desai_1'\n",
    "desai_fit_settings = 'Bursty_Poisson_20x21'\n",
    "\n",
    "desai_markers = [['Nanog','Sox2', 'Pou5f1','Klf4'],[]]\n",
    "# desai_markers = [['Nanog'],[]]\n",
    "desai_condition_names = ['DMSO','IdU']"
   ]
  },
  {
   "cell_type": "markdown",
   "id": "4b0438f8",
   "metadata": {},
   "source": [
    "# Fig 5: parameter comparisons"
   ]
  },
  {
   "cell_type": "markdown",
   "id": "0b6911c2",
   "metadata": {},
   "source": [
    "## Panel c: Desai data"
   ]
  },
  {
   "cell_type": "code",
   "execution_count": 404,
   "id": "f6a364c4",
   "metadata": {},
   "outputs": [
    {
     "data": {
      "text/plain": [
       "(2, 2000)"
      ]
     },
     "execution_count": 404,
     "metadata": {},
     "output_type": "execute_result"
    }
   ],
   "source": [
    "means_desai[0].shape"
   ]
  },
  {
   "cell_type": "code",
   "execution_count": 445,
   "id": "3ee754eb",
   "metadata": {},
   "outputs": [],
   "source": [
    "def plot_marker_gene_bs_k_diffs(sr_arr,pair,markers,celltype_names,ax1,colorset,xl=None,means=None,\n",
    "                               fc_thr=2,mean_thr=1):\n",
    "    gn = sr_arr[0].gene_names\n",
    "    n_genes = len(gn)\n",
    "\n",
    "    gf_rej = (~sr_arr[pair[1]].rejected_genes) & (~sr_arr[pair[0]].rejected_genes)\n",
    "    fc_par = (sr_arr[pair[1]].phys_optimum-sr_arr[pair[0]].phys_optimum)/np.log10(2)\n",
    "\n",
    "    gf_mark_ = [np.where(gn == x)[0][0] for x in markers[pair[0]]]\n",
    "    gf_mark_pop_0 = np.zeros(n_genes,dtype=bool)\n",
    "    gf_mark_pop_0[gf_mark_] = True\n",
    "\n",
    "\n",
    "    gf_mark_ = [np.where(gn == x)[0][0] for x in markers[pair[1]]]\n",
    "    gf_mark_pop_1 = np.zeros(n_genes,dtype=bool)\n",
    "    gf_mark_pop_1[gf_mark_] = True\n",
    "    \n",
    "    x = (sr_arr[pair[1]].phys_optimum[:,0] - sr_arr[pair[0]].phys_optimum[:,0])/np.log10(2)\n",
    "    y = -(sr_arr[pair[1]].phys_optimum[:,1] - sr_arr[pair[0]].phys_optimum[:,1])/np.log10(2)\n",
    "\n",
    "\n",
    "    ax1.scatter(x[gf_rej ],y[gf_rej ],\n",
    "                   s=aesthetics['celltype_diffs_ms'],\n",
    "                   c=aesthetics['celltype_diffs_gene_color'],\n",
    "                   alpha=aesthetics['celltype_diffs_gene_alpha'])\n",
    "    print(x[gf_mark_pop_0])\n",
    "    print(y[gf_mark_pop_0])\n",
    "    print(gn[gf_mark_pop_0])\n",
    "    print(gf_rej[gf_mark_pop_0])\n",
    "\n",
    "    if means is not None:\n",
    "        gf_highnoise = \\\n",
    "            (x>fc_thr) & (y<(-fc_thr)) \\\n",
    "            & ((means[0][1]>mean_thr)|(means[1][1]>mean_thr)) \\\n",
    "            & gf_rej\n",
    "        ax1.scatter(x[gf_highnoise],y[gf_highnoise],\n",
    "                       s=aesthetics['celltype_marker_ms'],\n",
    "                       c=aesthetics['high_noise_gene_color'],\n",
    "                       alpha=aesthetics['celltype_marker_alpha'])\n",
    "        \n",
    "    ax1.set_xlabel(r'$\\log_2$FC (burst size)',fontsize=aesthetics['fontsize_body_axes'])\n",
    "    ax1.set_ylabel(r'$\\log_2$FC (burst frequency)',fontsize=aesthetics['fontsize_body_axes'])\n",
    "    \n",
    "    if xl is None:\n",
    "        xl = np.asarray([-4,4])\n",
    "    else:\n",
    "        xl= np.asarray(xl)\n",
    "    yl = np.asarray([-xl[1],-xl[0]])\n",
    "    ax1.set_xlim(xl)\n",
    "    ax1.set_ylim(yl)\n",
    "    ax1.plot(xl,-xl,'-',linewidth=4,color=aesthetics['partition_line_color'],alpha=0.9)\n",
    "    ax1.plot(xl,[0,0],'--',linewidth=3,color=aesthetics['partition_line_color'],alpha=0.5)\n",
    "    ax1.plot([0,0],yl,'--',linewidth=3,color=aesthetics['partition_line_color'],alpha=0.5)\n",
    "    ax1.set_title('Change from {} to {}'.format(celltype_names[pair[0]],celltype_names[pair[1]]),\n",
    "                     fontsize=aesthetics['fontsize_body_title'])\n",
    "    return gf_highnoise"
   ]
  },
  {
   "cell_type": "code",
   "execution_count": 447,
   "id": "881e7f79",
   "metadata": {},
   "outputs": [],
   "source": [
    "sd_arr_desai = [monod.analysis.load_search_data('./fits/'+desai_batch_dir+'/'+x+'/raw.sd') for x in desai_datasets]"
   ]
  },
  {
   "cell_type": "code",
   "execution_count": 448,
   "id": "d133503d",
   "metadata": {},
   "outputs": [],
   "source": [
    "means_desai = [x.layers.mean(2) for x in sd_arr_desai]"
   ]
  },
  {
   "cell_type": "code",
   "execution_count": 469,
   "id": "24a569f4",
   "metadata": {},
   "outputs": [
    {
     "name": "stdout",
     "output_type": "stream",
     "text": [
      "[-9.5822222   0.          0.69155727  0.564808  ]\n",
      "[ 4.70194048 -0.         -0.76451787 -1.27884474]\n",
      "['Pou5f1' 'Sox2' 'Klf4' 'Nanog']\n",
      "[False False  True False]\n",
      "Alkbh5\n",
      "Exoc5\n",
      "Washc5\n",
      "Apod\n",
      "Marf1\n",
      "Eif2ak2\n",
      "Ubr2\n",
      "Cnnm2\n",
      "Dram2\n",
      "Mfn1\n",
      "Zfp110\n",
      "Cul4a\n",
      "Yap1\n",
      "Setd2\n"
     ]
    },
    {
     "data": {
      "image/png": "[encoded data removed]",
      "text/plain": [
       "<Figure size 360x360 with 1 Axes>"
      ]
     },
     "metadata": {
      "needs_background": "light"
     },
     "output_type": "display_data"
    }
   ],
   "source": [
    "fig1,ax1 = plt.subplots(1,1,figsize=(5,5))\n",
    "pair = [0,1]\n",
    "sr_arr_desai = [monod.analysis.load_search_results('./fits/'+desai_batch_dir+'/'+x+'/'+desai_fit_settings+'/grid_scan_results_upd.res') for x in desai_datasets]\n",
    "gf_highnoise = plot_marker_gene_bs_k_diffs(sr_arr_desai,pair,desai_markers,desai_condition_names,ax1,\n",
    "                            'condition_colors_desai',xl = [-2,4],means=means_desai,fc_thr=1.5)\n",
    "for x  in sr_arr_desai[0].gene_names[gf_highnoise]:\n",
    "    print(x)\n",
    "fig1.tight_layout()\n",
    "fig1.savefig('./'+figdir+'/desai_foldchanges.png',dpi=450)\n"
   ]
  },
  {
   "cell_type": "code",
   "execution_count": null,
   "id": "b947c284",
   "metadata": {},
   "outputs": [],
   "source": []
  }
 ],
 "metadata": {
  "kernelspec": {
   "display_name": "Python 3",
   "language": "python",
   "name": "python3"
  },
  "language_info": {
   "codemirror_mode": {
    "name": "ipython",
    "version": 3
   },
   "file_extension": ".py",
   "mimetype": "text/x-python",
   "name": "python",
   "nbconvert_exporter": "python",
   "pygments_lexer": "ipython3",
   "version": "3.9.1"
  }
 },
 "nbformat": 4,
 "nbformat_minor": 5
}
