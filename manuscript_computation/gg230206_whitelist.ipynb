{
 "cells": [
  {
   "cell_type": "markdown",
   "id": "1c840207",
   "metadata": {},
   "source": [
    "# Whitelist construction"
   ]
  },
  {
   "cell_type": "markdown",
   "id": "1ee081aa",
   "metadata": {},
   "source": [
    "This notebook constructs whitelists for datasets based on existing annotations."
   ]
  },
  {
   "cell_type": "code",
   "execution_count": 1,
   "id": "b9cf269f",
   "metadata": {},
   "outputs": [],
   "source": [
    "import pandas as pd\n",
    "import numpy as np\n",
    "import scipy\n",
    "from scipy import sparse\n",
    "import matplotlib.pyplot as plt\n",
    "import time\n",
    "import os.path\n"
   ]
  },
  {
   "cell_type": "markdown",
   "id": "d4d22784",
   "metadata": {},
   "source": [
    "## Allen"
   ]
  },
  {
   "cell_type": "markdown",
   "id": "b9162372",
   "metadata": {},
   "source": [
    "Single-cell"
   ]
  },
  {
   "cell_type": "code",
   "execution_count": 3,
   "id": "09a252b2",
   "metadata": {},
   "outputs": [],
   "source": [
    "allen_membership = pd.read_csv('~/count_data/allen_metadata/sc/cluster.membership.csv',\\\n",
    "                               skiprows = 1, names=['barcode','cluster_id'])\n",
    "allen_annot = pd.read_csv('~/count_data/allen_metadata/sc/cluster.annotation.csv')\n"
   ]
  },
  {
   "cell_type": "markdown",
   "id": "d9d143f9",
   "metadata": {},
   "source": [
    "First 78 clusters in annotations are OK quality, others aren't."
   ]
  },
  {
   "cell_type": "code",
   "execution_count": 18,
   "id": "e944658e",
   "metadata": {},
   "outputs": [
    {
     "name": "stdout",
     "output_type": "stream",
     "text": [
      "78\n"
     ]
    }
   ],
   "source": [
    "ok_clusters = allen_annot[~(allen_annot['class_label']=='Low Quality')]['cluster_id']\n",
    "print(len(ok_clusters))"
   ]
  },
  {
   "cell_type": "code",
   "execution_count": 21,
   "id": "5051d823",
   "metadata": {},
   "outputs": [],
   "source": [
    "allen_membership['cell_barcode'] = allen_membership['barcode'].str[:16]\n",
    "allen_membership['sample'] = allen_membership['barcode'].str[-3:]\n",
    "allen_membership['cluster_id'] = allen_membership['cluster_id'].astype(\"category\")\n"
   ]
  },
  {
   "cell_type": "code",
   "execution_count": 35,
   "id": "f26f80ff",
   "metadata": {},
   "outputs": [
    {
     "name": "stdout",
     "output_type": "stream",
     "text": [
      "Sample: H12. High-quality barcodes in annotations: 5405.\n",
      "Sample: G12. High-quality barcodes in annotations: 5256.\n",
      "Sample: A01. High-quality barcodes in annotations: 4520.\n",
      "Sample: F01. High-quality barcodes in annotations: 4011.\n",
      "Sample: B01. High-quality barcodes in annotations: 7416.\n",
      "Sample: C01. High-quality barcodes in annotations: 7624.\n",
      "Sample: D01. High-quality barcodes in annotations: 4966.\n",
      "Sample: E01. High-quality barcodes in annotations: 5271.\n",
      "Sample: F08. High-quality barcodes in annotations: 6821.\n",
      "Sample: G08. High-quality barcodes in annotations: 7560.\n",
      "Sample: A08. High-quality barcodes in annotations: 5915.\n",
      "Sample: B08. High-quality barcodes in annotations: 6418.\n"
     ]
    }
   ],
   "source": [
    "for sample in ['H12','G12','A01','F01','B01','C01','D01','E01','F08','G08','A08','B08']:\n",
    "    bcs = allen_membership[(allen_membership['sample']==sample) & (allen_membership['cluster_id'].isin(ok_clusters))]['cell_barcode']\n",
    "    print(f'Sample: {sample}. High-quality barcodes in annotations: {len(bcs)}.')\n",
    "    np.savetxt(f'./whitelists/{sample}_wl.txt',np.asarray(bcs,dtype=str),fmt='%16s')\n"
   ]
  },
  {
   "cell_type": "markdown",
   "id": "c2a8a8c5",
   "metadata": {},
   "source": [
    "Single-nucleus"
   ]
  },
  {
   "cell_type": "code",
   "execution_count": 2,
   "id": "ca3c62c9",
   "metadata": {},
   "outputs": [
    {
     "name": "stdout",
     "output_type": "stream",
     "text": [
      "67\n"
     ]
    }
   ],
   "source": [
    "allen_membership = pd.read_csv('~/count_data/allen_metadata/sn/cluster.membership.csv',\\\n",
    "                               skiprows = 1, names=['barcode','cluster_id'])\n",
    "allen_annot = pd.read_csv('~/count_data/allen_metadata/sn/cluster.annotation.csv')\n",
    "ok_clusters = allen_annot[~(allen_annot['class_label']=='Low Quality')]['cluster_id']\n",
    "print(len(ok_clusters))\n",
    "allen_membership['cell_barcode'] = allen_membership['barcode'].str[:16]\n",
    "allen_membership['sample'] = allen_membership['barcode'].str[-3:]\n",
    "allen_membership['cluster_id'] = allen_membership['cluster_id'].astype(\"category\")\n"
   ]
  },
  {
   "cell_type": "code",
   "execution_count": 3,
   "id": "03488855",
   "metadata": {},
   "outputs": [
    {
     "name": "stdout",
     "output_type": "stream",
     "text": [
      "Sample: A02. High-quality barcodes in annotations: 8266.\n"
     ]
    }
   ],
   "source": [
    "for sample in ['A02']:\n",
    "    bcs = allen_membership[(allen_membership['sample']==sample) & (allen_membership['cluster_id'].isin(ok_clusters))]['cell_barcode']\n",
    "    print(f'Sample: {sample}. High-quality barcodes in annotations: {len(bcs)}.')\n",
    "    np.savetxt(f'./whitelists/{sample}_wl.txt',np.asarray(bcs,dtype=str),fmt='%16s')\n"
   ]
  },
  {
   "cell_type": "markdown",
   "id": "b0e72a44",
   "metadata": {},
   "source": [
    "## Andrews"
   ]
  },
  {
   "cell_type": "code",
   "execution_count": 20,
   "id": "101a1cc2",
   "metadata": {},
   "outputs": [],
   "source": [
    "meta_str = '/home/ggorin/datasets/liver_andrews/GSE185477_Final_Metadata.txt'\n",
    "meta = pd.read_csv(meta_str,sep='\\t')\n"
   ]
  },
  {
   "cell_type": "code",
   "execution_count": 26,
   "id": "6cf46be3",
   "metadata": {},
   "outputs": [
    {
     "name": "stdout",
     "output_type": "stream",
     "text": [
      "Sample: C72 single-cell. High-quality barcodes in annotations: 11219.\n",
      "Sample: C72 single-nucleus. High-quality barcodes in annotations: 9054.\n"
     ]
    }
   ],
   "source": [
    "bcs = np.asarray(meta[meta['sample']=='C72_RESEQ']['cell_barcode'],dtype=str)\n",
    "np.savetxt('./whitelists/liver_c72_sc_wl.txt',bcs,fmt='%16s')\n",
    "print(f'Sample: C72 single-cell. High-quality barcodes in annotations: {len(bcs)}.')\n",
    "\n",
    "bcs = np.asarray(meta[meta['sample']=='C72_TST']['cell_barcode'],dtype=str)\n",
    "np.savetxt('./whitelists/liver_c72_sn_wl.txt', bcs,fmt='%16s')\n",
    "print(f'Sample: C72 single-nucleus. High-quality barcodes in annotations: {len(bcs)}.')\n"
   ]
  },
  {
   "cell_type": "markdown",
   "id": "7da876ca",
   "metadata": {},
   "source": [
    "## 10x"
   ]
  },
  {
   "cell_type": "markdown",
   "id": "097119b1",
   "metadata": {},
   "source": [
    "Just use the cellranger results."
   ]
  },
  {
   "cell_type": "code",
   "execution_count": 27,
   "id": "c6d215f3",
   "metadata": {},
   "outputs": [
    {
     "name": "stdout",
     "output_type": "stream",
     "text": [
      "Sample: 10x 5k mouse brain cells. High-quality barcodes in annotations: 5483.\n"
     ]
    }
   ],
   "source": [
    "meta_str = '/home/ggorin/count_data/brain_5k_v3_cr/outs/filtered_feature_bc_matrix/barcodes.tsv'\n",
    "meta = pd.read_csv(meta_str,sep='\\t',header=None,names=['barcode'])\n",
    "bcs = np.asarray(meta['barcode'].str[:-2],dtype=str)\n",
    "np.savetxt('./whitelists/brain_5k_v3_wl.txt', bcs,fmt='%16s')\n",
    "print(f'Sample: 10x 5k mouse brain cells. High-quality barcodes in annotations: {len(bcs)}.')\n"
   ]
  },
  {
   "cell_type": "code",
   "execution_count": 28,
   "id": "6b11b2e5",
   "metadata": {},
   "outputs": [
    {
     "name": "stdout",
     "output_type": "stream",
     "text": [
      "Sample: 10x 5k mouse brain nuclei. High-quality barcodes in annotations: 5899.\n"
     ]
    }
   ],
   "source": [
    "meta_str = '/home/ggorin/count_data/brain_nuc_5k_v3_cr/outs/filtered_feature_bc_matrix/barcodes.tsv'\n",
    "meta = pd.read_csv(meta_str,sep='\\t',header=None,names=['barcode'])\n",
    "bcs = np.asarray(meta['barcode'].str[:-2],dtype=str)\n",
    "np.savetxt('./whitelists/brain_nuc_5k_v3_wl.txt', bcs,fmt='%16s')\n",
    "print(f'Sample: 10x 5k mouse brain nuclei. High-quality barcodes in annotations: {len(bcs)}.')\n"
   ]
  },
  {
   "cell_type": "code",
   "execution_count": null,
   "id": "3b1526ac",
   "metadata": {},
   "outputs": [],
   "source": []
  }
 ],
 "metadata": {
  "kernelspec": {
   "display_name": "Python 3",
   "language": "python",
   "name": "python3"
  },
  "language_info": {
   "codemirror_mode": {
    "name": "ipython",
    "version": 3
   },
   "file_extension": ".py",
   "mimetype": "text/x-python",
   "name": "python",
   "nbconvert_exporter": "python",
   "pygments_lexer": "ipython3",
   "version": "3.9.1"
  }
 },
 "nbformat": 4,
 "nbformat_minor": 5
}
