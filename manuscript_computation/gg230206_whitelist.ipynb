{
 "cells": [
  {
   "cell_type": "markdown",
   "id": "1c840207",
   "metadata": {},
   "source": [
    "# Whitelist construction"
   ]
  },
  {
   "cell_type": "markdown",
   "id": "1ee081aa",
   "metadata": {},
   "source": [
    "This notebook constructs whitelists for datasets based on existing annotations."
   ]
  },
  {
   "cell_type": "code",
   "execution_count": 1,
   "id": "b9cf269f",
   "metadata": {},
   "outputs": [],
   "source": [
    "import pandas as pd\n",
    "import numpy as np\n",
    "import scipy\n",
    "from scipy import sparse\n",
    "import matplotlib.pyplot as plt\n",
    "import time\n",
    "import os.path\n"
   ]
  },
  {
   "cell_type": "markdown",
   "id": "8f3b30b1",
   "metadata": {},
   "source": [
    "## Allen"
   ]
  },
  {
   "cell_type": "markdown",
   "id": "8b91cec3",
   "metadata": {},
   "source": [
    "Single-cell"
   ]
  },
  {
   "cell_type": "code",
   "execution_count": 3,
   "id": "09a252b2",
   "metadata": {},
   "outputs": [],
   "source": [
    "allen_membership = pd.read_csv('~/count_data/allen_metadata/sc/cluster.membership.csv',\\\n",
    "                               skiprows = 1, names=['barcode','cluster_id'])\n",
    "allen_annot = pd.read_csv('~/count_data/allen_metadata/sc/cluster.annotation.csv')\n"
   ]
  },
  {
   "cell_type": "markdown",
   "id": "d9d143f9",
   "metadata": {},
   "source": [
    "First 78 clusters in annotations are OK quality, others aren't."
   ]
  },
  {
   "cell_type": "code",
   "execution_count": 18,
   "id": "e944658e",
   "metadata": {},
   "outputs": [
    {
     "name": "stdout",
     "output_type": "stream",
     "text": [
      "78\n"
     ]
    }
   ],
   "source": [
    "ok_clusters = allen_annot[~(allen_annot['class_label']=='Low Quality')]['cluster_id']\n",
    "print(len(ok_clusters))"
   ]
  },
  {
   "cell_type": "code",
   "execution_count": 21,
   "id": "5051d823",
   "metadata": {},
   "outputs": [],
   "source": [
    "allen_membership['cell_barcode'] = allen_membership['barcode'].str[:16]\n",
    "allen_membership['sample'] = allen_membership['barcode'].str[-3:]\n",
    "allen_membership['cluster_id'] = allen_membership['cluster_id'].astype(\"category\")\n"
   ]
  },
  {
   "cell_type": "code",
   "execution_count": 35,
   "id": "f26f80ff",
   "metadata": {},
   "outputs": [
    {
     "name": "stdout",
     "output_type": "stream",
     "text": [
      "Sample: H12. High-quality barcodes in annotations: 5405.\n",
      "Sample: G12. High-quality barcodes in annotations: 5256.\n",
      "Sample: A01. High-quality barcodes in annotations: 4520.\n",
      "Sample: F01. High-quality barcodes in annotations: 4011.\n",
      "Sample: B01. High-quality barcodes in annotations: 7416.\n",
      "Sample: C01. High-quality barcodes in annotations: 7624.\n",
      "Sample: D01. High-quality barcodes in annotations: 4966.\n",
      "Sample: E01. High-quality barcodes in annotations: 5271.\n",
      "Sample: F08. High-quality barcodes in annotations: 6821.\n",
      "Sample: G08. High-quality barcodes in annotations: 7560.\n",
      "Sample: A08. High-quality barcodes in annotations: 5915.\n",
      "Sample: B08. High-quality barcodes in annotations: 6418.\n"
     ]
    }
   ],
   "source": [
    "for sample in ['H12','G12','A01','F01','B01','C01','D01','E01','F08','G08','A08','B08']:\n",
    "    bcs = allen_membership[(allen_membership['sample']==sample) & (allen_membership['cluster_id'].isin(ok_clusters))]['cell_barcode']\n",
    "    print(f'Sample: {sample}. High-quality barcodes in annotations: {len(bcs)}.')\n",
    "    np.savetxt(f'./whitelists/{sample}_wl.txt',np.asarray(bcs,dtype=str),fmt='%16s')\n"
   ]
  },
  {
   "cell_type": "markdown",
   "id": "eeb6b76d",
   "metadata": {},
   "source": [
    "Single-nucleus"
   ]
  },
  {
   "cell_type": "code",
   "execution_count": 2,
   "id": "ca3c62c9",
   "metadata": {},
   "outputs": [
    {
     "name": "stdout",
     "output_type": "stream",
     "text": [
      "67\n"
     ]
    }
   ],
   "source": [
    "allen_membership = pd.read_csv('~/count_data/allen_metadata/sn/cluster.membership.csv',\\\n",
    "                               skiprows = 1, names=['barcode','cluster_id'])\n",
    "allen_annot = pd.read_csv('~/count_data/allen_metadata/sn/cluster.annotation.csv')\n",
    "ok_clusters = allen_annot[~(allen_annot['class_label']=='Low Quality')]['cluster_id']\n",
    "print(len(ok_clusters))\n",
    "allen_membership['cell_barcode'] = allen_membership['barcode'].str[:16]\n",
    "allen_membership['sample'] = allen_membership['barcode'].str[-3:]\n",
    "allen_membership['cluster_id'] = allen_membership['cluster_id'].astype(\"category\")\n"
   ]
  },
  {
   "cell_type": "code",
   "execution_count": 3,
   "id": "03488855",
   "metadata": {},
   "outputs": [
    {
     "name": "stdout",
     "output_type": "stream",
     "text": [
      "Sample: A02. High-quality barcodes in annotations: 8266.\n"
     ]
    }
   ],
   "source": [
    "for sample in ['A02']:\n",
    "    bcs = allen_membership[(allen_membership['sample']==sample) & (allen_membership['cluster_id'].isin(ok_clusters))]['cell_barcode']\n",
    "    print(f'Sample: {sample}. High-quality barcodes in annotations: {len(bcs)}.')\n",
    "    np.savetxt(f'./whitelists/{sample}_wl.txt',np.asarray(bcs,dtype=str),fmt='%16s')\n"
   ]
  },
  {
   "cell_type": "markdown",
   "id": "21f5353d",
   "metadata": {},
   "source": [
    "## Andrews"
   ]
  },
  {
   "cell_type": "code",
   "execution_count": 4,
   "id": "5d97885e",
   "metadata": {},
   "outputs": [],
   "source": [
    "meta_str = '/home/ggorin/datasets/liver_andrews/GSE185477_Final_Metadata.txt'\n",
    "meta = pd.read_csv(meta_str,sep='\\t')\n"
   ]
  },
  {
   "cell_type": "code",
   "execution_count": null,
   "id": "76d3a00a",
   "metadata": {},
   "outputs": [],
   "source": [
    "np.savetxt('./whitelists/liver_c72_sc_wl.txt', \\\n",
    "           np.asarray(meta[meta['sample']=='C72_RESEQ']['cell_barcode'],dtype=str),fmt='%16s')\n",
    "np.savetxt('./whitelists/liver_c72_sn_wl.txt', \\\n",
    "           np.asarray(meta[meta['sample']=='C72_TST']['cell_barcode'],dtype=str),fmt='%16s')\n"
   ]
  },
  {
   "cell_type": "code",
   "execution_count": null,
   "id": "fbf69f72",
   "metadata": {},
   "outputs": [],
   "source": [
    "# np.savetxt('/home/ggorin/datasets/liver_andrews/sc/whitelist.txt', \\\n",
    "#            np.asarray(meta[meta['sample']=='C72_RESEQ']['cell_barcode'],dtype=str),fmt='%16s')\n",
    "# np.savetxt('/home/ggorin/datasets/liver_andrews/sn/whitelist.txt', \\\n",
    "#            np.asarray(meta[meta['sample']=='C72_TST']['cell_barcode'],dtype=str),fmt='%16s')\n"
   ]
  }
 ],
 "metadata": {
  "kernelspec": {
   "display_name": "Python 3",
   "language": "python",
   "name": "python3"
  },
  "language_info": {
   "codemirror_mode": {
    "name": "ipython",
    "version": 3
   },
   "file_extension": ".py",
   "mimetype": "text/x-python",
   "name": "python",
   "nbconvert_exporter": "python",
   "pygments_lexer": "ipython3",
   "version": "3.9.1"
  }
 },
 "nbformat": 4,
 "nbformat_minor": 5
}
