{
 "cells": [
  {
   "cell_type": "code",
   "execution_count": null,
   "id": "a12d9595",
   "metadata": {},
   "outputs": [],
   "source": [
    "import loompy as lp\n",
    "import scipy\n",
    "import numpy as np\n",
    "import matplotlib.pyplot as plt"
   ]
  },
  {
   "cell_type": "code",
   "execution_count": null,
   "id": "c31b370b",
   "metadata": {},
   "outputs": [],
   "source": [
    "print('aaa')"
   ]
  },
  {
   "cell_type": "code",
   "execution_count": null,
   "id": "ca089917",
   "metadata": {},
   "outputs": [],
   "source": [
    "mtx_names = ['cells_x_genes{}.mtx'.format(x) for x in ('','.2','.ambiguous')]\n",
    "data_names = ('spliced','unspliced','ambiguous')"
   ]
  },
  {
   "cell_type": "code",
   "execution_count": null,
   "id": "1560dab4",
   "metadata": {},
   "outputs": [],
   "source": [
    "spliced_layer = 'spliced'\n",
    "unspliced_layer = 'unspliced'\n",
    "ambiguous_layer = 'unspliced'\n",
    "gene_attr = 'gene_name'\n",
    "cell_attr = 'barcode'\n",
    "\n",
    "attribute_names=[(unspliced_layer,spliced_layer,ambiguous_layes),gene_attr,cell_attr]\n"
   ]
  }
 ],
 "metadata": {
  "kernelspec": {
   "display_name": "Python 3",
   "language": "python",
   "name": "python3"
  },
  "language_info": {
   "codemirror_mode": {
    "name": "ipython",
    "version": 3
   },
   "file_extension": ".py",
   "mimetype": "text/x-python",
   "name": "python",
   "nbconvert_exporter": "python",
   "pygments_lexer": "ipython3",
   "version": "3.9.1"
  }
 },
 "nbformat": 4,
 "nbformat_minor": 5
}
