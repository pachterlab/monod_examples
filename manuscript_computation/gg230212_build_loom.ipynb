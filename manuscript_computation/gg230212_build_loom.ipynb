{
 "cells": [
  {
   "cell_type": "markdown",
   "id": "5e81a07c",
   "metadata": {},
   "source": [
    "# Loom construction"
   ]
  },
  {
   "cell_type": "markdown",
   "id": "ce40fd08",
   "metadata": {},
   "source": [
    "This notebook takes in the `kb` outputs in `mtx` format for Allen and 10x datasets, converts the gene IDs to gene names, and exports spliced, unspliced, and ambiguous counts to the `loom` format."
   ]
  },
  {
   "cell_type": "code",
   "execution_count": 3,
   "id": "a12d9595",
   "metadata": {},
   "outputs": [],
   "source": [
    "import loompy as lp\n",
    "import scipy\n",
    "import numpy as np\n",
    "import matplotlib.pyplot as plt"
   ]
  },
  {
   "cell_type": "code",
   "execution_count": 27,
   "id": "c31b370b",
   "metadata": {},
   "outputs": [],
   "source": [
    "import pandas as pd"
   ]
  },
  {
   "cell_type": "code",
   "execution_count": 10,
   "id": "ca089917",
   "metadata": {},
   "outputs": [],
   "source": [
    "mtx_names = ['cells_x_genes{}.mtx'.format(x) for x in ('','.2','.ambiguous')]\n",
    "data_names = ('spliced','unspliced','ambiguous')\n",
    "bc_name = 'cells_x_genes.barcodes.txt'\n",
    "gene_name = 'cells_x_genes.genes.txt'"
   ]
  },
  {
   "cell_type": "code",
   "execution_count": 57,
   "id": "f0c1d52d",
   "metadata": {},
   "outputs": [
    {
     "name": "stderr",
     "output_type": "stream",
     "text": [
      "/home/ggorin/miniconda3/lib/python3.9/site-packages/IPython/core/interactiveshell.py:3169: DtypeWarning: Columns (3) have mixed types.Specify dtype option on import or set low_memory=False.\n",
      "  has_raised = await self.run_ast_nodes(code_ast.body, cell_name,\n"
     ]
    }
   ],
   "source": [
    "gene_ref_loc = '/home/ggorin/ref/refdata-gex-mm10-2020-A/kallisto-D/ref.t2g'\n",
    "gene_ref = pd.read_csv(gene_ref_loc,header=None,sep='\\t')\n",
    "gene_ref = gene_ref.iloc[:,1:3]\n",
    "gene_ref.columns = ['gene_id','gene_name']\n",
    "gene_ref.set_index('gene_id',inplace=True)"
   ]
  },
  {
   "cell_type": "code",
   "execution_count": 58,
   "id": "c8e82091",
   "metadata": {},
   "outputs": [
    {
     "data": {
      "text/html": [
       "<div>\n",
       "<style scoped>\n",
       "    .dataframe tbody tr th:only-of-type {\n",
       "        vertical-align: middle;\n",
       "    }\n",
       "\n",
       "    .dataframe tbody tr th {\n",
       "        vertical-align: top;\n",
       "    }\n",
       "\n",
       "    .dataframe thead th {\n",
       "        text-align: right;\n",
       "    }\n",
       "</style>\n",
       "<table border=\"1\" class=\"dataframe\">\n",
       "  <thead>\n",
       "    <tr style=\"text-align: right;\">\n",
       "      <th></th>\n",
       "      <th>gene_name</th>\n",
       "    </tr>\n",
       "    <tr>\n",
       "      <th>gene_id</th>\n",
       "      <th></th>\n",
       "    </tr>\n",
       "  </thead>\n",
       "  <tbody>\n",
       "    <tr>\n",
       "      <th>ENSMUSG00000051951.5</th>\n",
       "      <td>Xkr4</td>\n",
       "    </tr>\n",
       "    <tr>\n",
       "      <th>ENSMUSG00000051951.5</th>\n",
       "      <td>Xkr4</td>\n",
       "    </tr>\n",
       "    <tr>\n",
       "      <th>ENSMUSG00000051951.5</th>\n",
       "      <td>Xkr4</td>\n",
       "    </tr>\n",
       "    <tr>\n",
       "      <th>ENSMUSG00000089699.1</th>\n",
       "      <td>Gm1992</td>\n",
       "    </tr>\n",
       "    <tr>\n",
       "      <th>ENSMUSG00000102331.1</th>\n",
       "      <td>Gm19938</td>\n",
       "    </tr>\n",
       "    <tr>\n",
       "      <th>...</th>\n",
       "      <td>...</td>\n",
       "    </tr>\n",
       "    <tr>\n",
       "      <th>ENSMUSG00000079808.3</th>\n",
       "      <td>AC168977.1</td>\n",
       "    </tr>\n",
       "    <tr>\n",
       "      <th>ENSMUSG00000095041.7</th>\n",
       "      <td>AC149090.1</td>\n",
       "    </tr>\n",
       "    <tr>\n",
       "      <th>ENSMUSG00000063897.3</th>\n",
       "      <td>CAAA01118383.1</td>\n",
       "    </tr>\n",
       "    <tr>\n",
       "      <th>ENSMUSG00000096730.7</th>\n",
       "      <td>Vmn2r122</td>\n",
       "    </tr>\n",
       "    <tr>\n",
       "      <th>ENSMUSG00000095742.1</th>\n",
       "      <td>CAAA01147332.1</td>\n",
       "    </tr>\n",
       "  </tbody>\n",
       "</table>\n",
       "<p>150438 rows × 1 columns</p>\n",
       "</div>"
      ],
      "text/plain": [
       "                           gene_name\n",
       "gene_id                             \n",
       "ENSMUSG00000051951.5            Xkr4\n",
       "ENSMUSG00000051951.5            Xkr4\n",
       "ENSMUSG00000051951.5            Xkr4\n",
       "ENSMUSG00000089699.1          Gm1992\n",
       "ENSMUSG00000102331.1         Gm19938\n",
       "...                              ...\n",
       "ENSMUSG00000079808.3      AC168977.1\n",
       "ENSMUSG00000095041.7      AC149090.1\n",
       "ENSMUSG00000063897.3  CAAA01118383.1\n",
       "ENSMUSG00000096730.7        Vmn2r122\n",
       "ENSMUSG00000095742.1  CAAA01147332.1\n",
       "\n",
       "[150438 rows x 1 columns]"
      ]
     },
     "execution_count": 58,
     "metadata": {},
     "output_type": "execute_result"
    }
   ],
   "source": [
    "gene_ref"
   ]
  },
  {
   "cell_type": "code",
   "execution_count": 62,
   "id": "45bcd95d",
   "metadata": {},
   "outputs": [],
   "source": [
    "gn = gene_ref.loc['ENSMUSG00000051951.5']['gene_name'].unique()"
   ]
  },
  {
   "cell_type": "code",
   "execution_count": 64,
   "id": "751094c2",
   "metadata": {},
   "outputs": [
    {
     "data": {
      "text/plain": [
       "'Xkr4'"
      ]
     },
     "execution_count": 64,
     "metadata": {},
     "output_type": "execute_result"
    }
   ],
   "source": [
    "gn[0]"
   ]
  },
  {
   "cell_type": "code",
   "execution_count": 51,
   "id": "c07cf289",
   "metadata": {},
   "outputs": [
    {
     "data": {
      "text/plain": [
       "150438"
      ]
     },
     "execution_count": 51,
     "metadata": {},
     "output_type": "execute_result"
    }
   ],
   "source": [
    "\n",
    "gene_ref['gene_id'].isin(genes).sum()"
   ]
  },
  {
   "cell_type": "code",
   "execution_count": 8,
   "id": "1560dab4",
   "metadata": {},
   "outputs": [],
   "source": [
    "spliced_layer = 'spliced'\n",
    "unspliced_layer = 'unspliced'\n",
    "ambiguous_layer = 'ambiguous'\n",
    "gene_attr = 'gene_name'\n",
    "cell_attr = 'barcode'\n",
    "\n",
    "attribute_names=[(unspliced_layer,spliced_layer,ambiguous_layer),gene_attr,cell_attr]\n"
   ]
  },
  {
   "cell_type": "code",
   "execution_count": 14,
   "id": "74b4ed69",
   "metadata": {},
   "outputs": [],
   "source": [
    "indir = '/home/ggorin/dlist_count_data/'\n",
    "outdir = '/home/ggorin/dlist_count_data/loom_kb/'"
   ]
  },
  {
   "cell_type": "code",
   "execution_count": 80,
   "id": "9edcd3dd",
   "metadata": {},
   "outputs": [],
   "source": [
    "dataset_names = ['allen_'+x for x in ('A02','C01','B08','F08','H12')] \\\n",
    "               +['brain_5k_v3','brain_nuc_5k_v3']\n",
    "dataset_dirs = [indir + x + '/counts_unfiltered/' for x in dataset_names]"
   ]
  },
  {
   "cell_type": "code",
   "execution_count": 19,
   "id": "636cdf39",
   "metadata": {},
   "outputs": [],
   "source": [
    "#                 lp.create(outdir+'/allen_{}_{}.loom'.format(d,celltype_abbr[celltype]),\\\n",
    "#                           layers={'':scipy.sparse.csr_matrix(S_.shape),\n",
    "#                                   spliced_layer:S_,\n",
    "#                                   unspliced_layer:U_},\\\n",
    "#                                   row_attrs={gene_attr:gene_names},\\\n",
    "#                                   col_attrs={cell_attr:bc_filt})\n"
   ]
  },
  {
   "cell_type": "code",
   "execution_count": 73,
   "id": "2572934e",
   "metadata": {},
   "outputs": [],
   "source": [
    "for dataset in dataset_dirs[:1]:\n",
    "#     bcs = np.loadtxt(dataset+'/'+bc_name,dtype=str)\n",
    "    gene_ids = np.loadtxt(dataset+'/'+gene_name,dtype=str)"
   ]
  },
  {
   "cell_type": "code",
   "execution_count": 74,
   "id": "ee3160e7",
   "metadata": {},
   "outputs": [],
   "source": [
    "genes = ['']*len(genes)\n",
    "for k,gene in enumerate(gene_ids):\n",
    "    gn = gene_ref.loc[gene]['gene_name'].unique()\n",
    "    if len(gn)==1:\n",
    "        genes[k] = gn[0]\n",
    "    else:\n",
    "        genes[k] = 'nonunique'"
   ]
  },
  {
   "cell_type": "code",
   "execution_count": 87,
   "id": "65adabdf",
   "metadata": {},
   "outputs": [],
   "source": [
    "# dataset"
   ]
  },
  {
   "cell_type": "code",
   "execution_count": 88,
   "id": "2947de03",
   "metadata": {},
   "outputs": [],
   "source": [
    "for k,dataset in enumerate(dataset_dirs):\n",
    "    bcs = np.loadtxt(dataset+'/'+bc_name,dtype=str)\n",
    "    gene_ids_ = np.loadtxt(dataset+'/'+gene_name,dtype=str)\n",
    "    if ~np.all(gene_ids_==gene_ids):\n",
    "        raise ValueError('IDs wrong!')\n",
    "    l1 = scipy.io.mmread(dataset+mtx_names[0]).T\n",
    "    l2 = scipy.io.mmread(dataset+mtx_names[1]).T\n",
    "    l3 = scipy.io.mmread(dataset+mtx_names[2]).T\n",
    "    lp.create(outdir + dataset_names[k]+'.loom',\\\n",
    "          layers={'':scipy.sparse.csr_matrix(l1.shape),\n",
    "                  data_names[0]:l1,\n",
    "                  data_names[1]:l2,\n",
    "                  data_names[2]:l3},\\\n",
    "                  row_attrs={gene_attr:genes},\\\n",
    "                  col_attrs={cell_attr:bcs})\n"
   ]
  },
  {
   "cell_type": "code",
   "execution_count": 86,
   "id": "9ad566fe",
   "metadata": {},
   "outputs": [],
   "source": [
    "# gene_ids"
   ]
  },
  {
   "cell_type": "code",
   "execution_count": null,
   "id": "c0c6cac7",
   "metadata": {},
   "outputs": [],
   "source": []
  }
 ],
 "metadata": {
  "kernelspec": {
   "display_name": "Python 3",
   "language": "python",
   "name": "python3"
  },
  "language_info": {
   "codemirror_mode": {
    "name": "ipython",
    "version": 3
   },
   "file_extension": ".py",
   "mimetype": "text/x-python",
   "name": "python",
   "nbconvert_exporter": "python",
   "pygments_lexer": "ipython3",
   "version": "3.9.1"
  }
 },
 "nbformat": 4,
 "nbformat_minor": 5
}
